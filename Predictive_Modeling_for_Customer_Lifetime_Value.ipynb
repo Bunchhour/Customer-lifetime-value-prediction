{
 "cells": [
  {
   "cell_type": "markdown",
   "id": "939f12aa",
   "metadata": {},
   "source": [
    "**Project objective**: Predict CLV based on customer purchase history and behavior to optimize marketing strategies and rention effort"
   ]
  },
  {
   "cell_type": "code",
   "execution_count": 1,
   "id": "39866300",
   "metadata": {},
   "outputs": [],
   "source": [
    "import pandas as pd\n",
    "\n",
    "df = pd.read_csv(\"OnlineRetail.csv\", encoding='ISO-8859-1')"
   ]
  },
  {
   "cell_type": "code",
   "execution_count": 2,
   "id": "b92f066c",
   "metadata": {},
   "outputs": [
    {
     "data": {
      "application/vnd.microsoft.datawrangler.viewer.v0+json": {
       "columns": [
        {
         "name": "index",
         "rawType": "int64",
         "type": "integer"
        },
        {
         "name": "InvoiceNo",
         "rawType": "object",
         "type": "string"
        },
        {
         "name": "StockCode",
         "rawType": "object",
         "type": "string"
        },
        {
         "name": "Description",
         "rawType": "object",
         "type": "string"
        },
        {
         "name": "Quantity",
         "rawType": "int64",
         "type": "integer"
        },
        {
         "name": "InvoiceDate",
         "rawType": "object",
         "type": "string"
        },
        {
         "name": "UnitPrice",
         "rawType": "float64",
         "type": "float"
        },
        {
         "name": "CustomerID",
         "rawType": "float64",
         "type": "float"
        },
        {
         "name": "Country",
         "rawType": "object",
         "type": "string"
        }
       ],
       "ref": "f1f81f8b-9b92-4f6e-a32e-540a5ba0dfdb",
       "rows": [
        [
         "0",
         "536365",
         "85123A",
         "WHITE HANGING HEART T-LIGHT HOLDER",
         "6",
         "12/1/2010 8:26",
         "2.55",
         "17850.0",
         "United Kingdom"
        ],
        [
         "1",
         "536365",
         "71053",
         "WHITE METAL LANTERN",
         "6",
         "12/1/2010 8:26",
         "3.39",
         "17850.0",
         "United Kingdom"
        ],
        [
         "2",
         "536365",
         "84406B",
         "CREAM CUPID HEARTS COAT HANGER",
         "8",
         "12/1/2010 8:26",
         "2.75",
         "17850.0",
         "United Kingdom"
        ],
        [
         "3",
         "536365",
         "84029G",
         "KNITTED UNION FLAG HOT WATER BOTTLE",
         "6",
         "12/1/2010 8:26",
         "3.39",
         "17850.0",
         "United Kingdom"
        ],
        [
         "4",
         "536365",
         "84029E",
         "RED WOOLLY HOTTIE WHITE HEART.",
         "6",
         "12/1/2010 8:26",
         "3.39",
         "17850.0",
         "United Kingdom"
        ]
       ],
       "shape": {
        "columns": 8,
        "rows": 5
       }
      },
      "text/html": [
       "<div>\n",
       "<style scoped>\n",
       "    .dataframe tbody tr th:only-of-type {\n",
       "        vertical-align: middle;\n",
       "    }\n",
       "\n",
       "    .dataframe tbody tr th {\n",
       "        vertical-align: top;\n",
       "    }\n",
       "\n",
       "    .dataframe thead th {\n",
       "        text-align: right;\n",
       "    }\n",
       "</style>\n",
       "<table border=\"1\" class=\"dataframe\">\n",
       "  <thead>\n",
       "    <tr style=\"text-align: right;\">\n",
       "      <th></th>\n",
       "      <th>InvoiceNo</th>\n",
       "      <th>StockCode</th>\n",
       "      <th>Description</th>\n",
       "      <th>Quantity</th>\n",
       "      <th>InvoiceDate</th>\n",
       "      <th>UnitPrice</th>\n",
       "      <th>CustomerID</th>\n",
       "      <th>Country</th>\n",
       "    </tr>\n",
       "  </thead>\n",
       "  <tbody>\n",
       "    <tr>\n",
       "      <th>0</th>\n",
       "      <td>536365</td>\n",
       "      <td>85123A</td>\n",
       "      <td>WHITE HANGING HEART T-LIGHT HOLDER</td>\n",
       "      <td>6</td>\n",
       "      <td>12/1/2010 8:26</td>\n",
       "      <td>2.55</td>\n",
       "      <td>17850.0</td>\n",
       "      <td>United Kingdom</td>\n",
       "    </tr>\n",
       "    <tr>\n",
       "      <th>1</th>\n",
       "      <td>536365</td>\n",
       "      <td>71053</td>\n",
       "      <td>WHITE METAL LANTERN</td>\n",
       "      <td>6</td>\n",
       "      <td>12/1/2010 8:26</td>\n",
       "      <td>3.39</td>\n",
       "      <td>17850.0</td>\n",
       "      <td>United Kingdom</td>\n",
       "    </tr>\n",
       "    <tr>\n",
       "      <th>2</th>\n",
       "      <td>536365</td>\n",
       "      <td>84406B</td>\n",
       "      <td>CREAM CUPID HEARTS COAT HANGER</td>\n",
       "      <td>8</td>\n",
       "      <td>12/1/2010 8:26</td>\n",
       "      <td>2.75</td>\n",
       "      <td>17850.0</td>\n",
       "      <td>United Kingdom</td>\n",
       "    </tr>\n",
       "    <tr>\n",
       "      <th>3</th>\n",
       "      <td>536365</td>\n",
       "      <td>84029G</td>\n",
       "      <td>KNITTED UNION FLAG HOT WATER BOTTLE</td>\n",
       "      <td>6</td>\n",
       "      <td>12/1/2010 8:26</td>\n",
       "      <td>3.39</td>\n",
       "      <td>17850.0</td>\n",
       "      <td>United Kingdom</td>\n",
       "    </tr>\n",
       "    <tr>\n",
       "      <th>4</th>\n",
       "      <td>536365</td>\n",
       "      <td>84029E</td>\n",
       "      <td>RED WOOLLY HOTTIE WHITE HEART.</td>\n",
       "      <td>6</td>\n",
       "      <td>12/1/2010 8:26</td>\n",
       "      <td>3.39</td>\n",
       "      <td>17850.0</td>\n",
       "      <td>United Kingdom</td>\n",
       "    </tr>\n",
       "  </tbody>\n",
       "</table>\n",
       "</div>"
      ],
      "text/plain": [
       "  InvoiceNo StockCode                          Description  Quantity  \\\n",
       "0    536365    85123A   WHITE HANGING HEART T-LIGHT HOLDER         6   \n",
       "1    536365     71053                  WHITE METAL LANTERN         6   \n",
       "2    536365    84406B       CREAM CUPID HEARTS COAT HANGER         8   \n",
       "3    536365    84029G  KNITTED UNION FLAG HOT WATER BOTTLE         6   \n",
       "4    536365    84029E       RED WOOLLY HOTTIE WHITE HEART.         6   \n",
       "\n",
       "      InvoiceDate  UnitPrice  CustomerID         Country  \n",
       "0  12/1/2010 8:26       2.55     17850.0  United Kingdom  \n",
       "1  12/1/2010 8:26       3.39     17850.0  United Kingdom  \n",
       "2  12/1/2010 8:26       2.75     17850.0  United Kingdom  \n",
       "3  12/1/2010 8:26       3.39     17850.0  United Kingdom  \n",
       "4  12/1/2010 8:26       3.39     17850.0  United Kingdom  "
      ]
     },
     "execution_count": 2,
     "metadata": {},
     "output_type": "execute_result"
    }
   ],
   "source": [
    "df.head()"
   ]
  },
  {
   "cell_type": "markdown",
   "id": "d7f0fb02",
   "metadata": {},
   "source": [
    "**Step 1: Understand the dataset**\n",
    "- InvoiceNo: Invoice nunmber for each transaction.\n",
    "- StockCode: Product code.\n",
    "- Description: Product descroiption \n",
    "- Quantity: Number of items purchase.\n",
    "- InvoiceDate: Date and time of purchase \n",
    "- UnitPrice: Price per unit.\n",
    "- CustomerID: Unique customer identifier.\n",
    "- Country: Customer's country.  "
   ]
  },
  {
   "cell_type": "markdown",
   "id": "475d82d6",
   "metadata": {},
   "source": [
    "**Data Preprocessing**"
   ]
  },
  {
   "cell_type": "code",
   "execution_count": 3,
   "id": "02b9633f",
   "metadata": {},
   "outputs": [
    {
     "name": "stdout",
     "output_type": "stream",
     "text": [
      "InvoiceNo           0\n",
      "StockCode           0\n",
      "Description      1454\n",
      "Quantity            0\n",
      "InvoiceDate         0\n",
      "UnitPrice           0\n",
      "CustomerID     135080\n",
      "Country             0\n",
      "dtype: int64\n"
     ]
    }
   ],
   "source": [
    "# Handle Missing value in the dataset\n",
    "# Check the missing value in the dataset\n",
    "print(df.isnull().sum())\n"
   ]
  },
  {
   "cell_type": "code",
   "execution_count": 4,
   "id": "dfba8094",
   "metadata": {},
   "outputs": [
    {
     "data": {
      "application/vnd.microsoft.datawrangler.viewer.v0+json": {
       "columns": [
        {
         "name": "index",
         "rawType": "int64",
         "type": "integer"
        },
        {
         "name": "InvoiceNo",
         "rawType": "object",
         "type": "string"
        },
        {
         "name": "StockCode",
         "rawType": "object",
         "type": "string"
        },
        {
         "name": "Description",
         "rawType": "object",
         "type": "string"
        },
        {
         "name": "Quantity",
         "rawType": "int64",
         "type": "integer"
        },
        {
         "name": "InvoiceDate",
         "rawType": "object",
         "type": "string"
        },
        {
         "name": "UnitPrice",
         "rawType": "float64",
         "type": "float"
        },
        {
         "name": "CustomerID",
         "rawType": "float64",
         "type": "float"
        },
        {
         "name": "Country",
         "rawType": "object",
         "type": "string"
        }
       ],
       "ref": "497ec3b9-a28a-4c84-aa44-e6e8019e3a95",
       "rows": [
        [
         "0",
         "536365",
         "85123A",
         "WHITE HANGING HEART T-LIGHT HOLDER",
         "6",
         "12/1/2010 8:26",
         "2.55",
         "17850.0",
         "United Kingdom"
        ],
        [
         "1",
         "536365",
         "71053",
         "WHITE METAL LANTERN",
         "6",
         "12/1/2010 8:26",
         "3.39",
         "17850.0",
         "United Kingdom"
        ],
        [
         "2",
         "536365",
         "84406B",
         "CREAM CUPID HEARTS COAT HANGER",
         "8",
         "12/1/2010 8:26",
         "2.75",
         "17850.0",
         "United Kingdom"
        ],
        [
         "3",
         "536365",
         "84029G",
         "KNITTED UNION FLAG HOT WATER BOTTLE",
         "6",
         "12/1/2010 8:26",
         "3.39",
         "17850.0",
         "United Kingdom"
        ],
        [
         "4",
         "536365",
         "84029E",
         "RED WOOLLY HOTTIE WHITE HEART.",
         "6",
         "12/1/2010 8:26",
         "3.39",
         "17850.0",
         "United Kingdom"
        ]
       ],
       "shape": {
        "columns": 8,
        "rows": 5
       }
      },
      "text/html": [
       "<div>\n",
       "<style scoped>\n",
       "    .dataframe tbody tr th:only-of-type {\n",
       "        vertical-align: middle;\n",
       "    }\n",
       "\n",
       "    .dataframe tbody tr th {\n",
       "        vertical-align: top;\n",
       "    }\n",
       "\n",
       "    .dataframe thead th {\n",
       "        text-align: right;\n",
       "    }\n",
       "</style>\n",
       "<table border=\"1\" class=\"dataframe\">\n",
       "  <thead>\n",
       "    <tr style=\"text-align: right;\">\n",
       "      <th></th>\n",
       "      <th>InvoiceNo</th>\n",
       "      <th>StockCode</th>\n",
       "      <th>Description</th>\n",
       "      <th>Quantity</th>\n",
       "      <th>InvoiceDate</th>\n",
       "      <th>UnitPrice</th>\n",
       "      <th>CustomerID</th>\n",
       "      <th>Country</th>\n",
       "    </tr>\n",
       "  </thead>\n",
       "  <tbody>\n",
       "    <tr>\n",
       "      <th>0</th>\n",
       "      <td>536365</td>\n",
       "      <td>85123A</td>\n",
       "      <td>WHITE HANGING HEART T-LIGHT HOLDER</td>\n",
       "      <td>6</td>\n",
       "      <td>12/1/2010 8:26</td>\n",
       "      <td>2.55</td>\n",
       "      <td>17850.0</td>\n",
       "      <td>United Kingdom</td>\n",
       "    </tr>\n",
       "    <tr>\n",
       "      <th>1</th>\n",
       "      <td>536365</td>\n",
       "      <td>71053</td>\n",
       "      <td>WHITE METAL LANTERN</td>\n",
       "      <td>6</td>\n",
       "      <td>12/1/2010 8:26</td>\n",
       "      <td>3.39</td>\n",
       "      <td>17850.0</td>\n",
       "      <td>United Kingdom</td>\n",
       "    </tr>\n",
       "    <tr>\n",
       "      <th>2</th>\n",
       "      <td>536365</td>\n",
       "      <td>84406B</td>\n",
       "      <td>CREAM CUPID HEARTS COAT HANGER</td>\n",
       "      <td>8</td>\n",
       "      <td>12/1/2010 8:26</td>\n",
       "      <td>2.75</td>\n",
       "      <td>17850.0</td>\n",
       "      <td>United Kingdom</td>\n",
       "    </tr>\n",
       "    <tr>\n",
       "      <th>3</th>\n",
       "      <td>536365</td>\n",
       "      <td>84029G</td>\n",
       "      <td>KNITTED UNION FLAG HOT WATER BOTTLE</td>\n",
       "      <td>6</td>\n",
       "      <td>12/1/2010 8:26</td>\n",
       "      <td>3.39</td>\n",
       "      <td>17850.0</td>\n",
       "      <td>United Kingdom</td>\n",
       "    </tr>\n",
       "    <tr>\n",
       "      <th>4</th>\n",
       "      <td>536365</td>\n",
       "      <td>84029E</td>\n",
       "      <td>RED WOOLLY HOTTIE WHITE HEART.</td>\n",
       "      <td>6</td>\n",
       "      <td>12/1/2010 8:26</td>\n",
       "      <td>3.39</td>\n",
       "      <td>17850.0</td>\n",
       "      <td>United Kingdom</td>\n",
       "    </tr>\n",
       "  </tbody>\n",
       "</table>\n",
       "</div>"
      ],
      "text/plain": [
       "  InvoiceNo StockCode                          Description  Quantity  \\\n",
       "0    536365    85123A   WHITE HANGING HEART T-LIGHT HOLDER         6   \n",
       "1    536365     71053                  WHITE METAL LANTERN         6   \n",
       "2    536365    84406B       CREAM CUPID HEARTS COAT HANGER         8   \n",
       "3    536365    84029G  KNITTED UNION FLAG HOT WATER BOTTLE         6   \n",
       "4    536365    84029E       RED WOOLLY HOTTIE WHITE HEART.         6   \n",
       "\n",
       "      InvoiceDate  UnitPrice  CustomerID         Country  \n",
       "0  12/1/2010 8:26       2.55     17850.0  United Kingdom  \n",
       "1  12/1/2010 8:26       3.39     17850.0  United Kingdom  \n",
       "2  12/1/2010 8:26       2.75     17850.0  United Kingdom  \n",
       "3  12/1/2010 8:26       3.39     17850.0  United Kingdom  \n",
       "4  12/1/2010 8:26       3.39     17850.0  United Kingdom  "
      ]
     },
     "execution_count": 4,
     "metadata": {},
     "output_type": "execute_result"
    }
   ],
   "source": [
    "df.head()"
   ]
  },
  {
   "cell_type": "code",
   "execution_count": 5,
   "id": "a88506ac",
   "metadata": {},
   "outputs": [],
   "source": [
    "df=df.dropna(subset=['CustomerID'])"
   ]
  },
  {
   "cell_type": "code",
   "execution_count": 6,
   "id": "f092237e",
   "metadata": {},
   "outputs": [],
   "source": [
    "\n",
    "df=df.dropna(subset=['CustomerID'])\n",
    "df['CustomerID']=df['CustomerID'].astype(int) # Convert customer ID to interger."
   ]
  },
  {
   "cell_type": "code",
   "execution_count": 7,
   "id": "6aab4a84",
   "metadata": {},
   "outputs": [
    {
     "data": {
      "application/vnd.microsoft.datawrangler.viewer.v0+json": {
       "columns": [
        {
         "name": "index",
         "rawType": "int64",
         "type": "integer"
        },
        {
         "name": "InvoiceNo",
         "rawType": "object",
         "type": "string"
        },
        {
         "name": "StockCode",
         "rawType": "object",
         "type": "string"
        },
        {
         "name": "Description",
         "rawType": "object",
         "type": "string"
        },
        {
         "name": "Quantity",
         "rawType": "int64",
         "type": "integer"
        },
        {
         "name": "InvoiceDate",
         "rawType": "object",
         "type": "string"
        },
        {
         "name": "UnitPrice",
         "rawType": "float64",
         "type": "float"
        },
        {
         "name": "CustomerID",
         "rawType": "int64",
         "type": "integer"
        },
        {
         "name": "Country",
         "rawType": "object",
         "type": "string"
        }
       ],
       "ref": "46226366-6bef-4e8e-83f8-dbd86a03564b",
       "rows": [
        [
         "0",
         "536365",
         "85123A",
         "WHITE HANGING HEART T-LIGHT HOLDER",
         "6",
         "12/1/2010 8:26",
         "2.55",
         "17850",
         "United Kingdom"
        ],
        [
         "1",
         "536365",
         "71053",
         "WHITE METAL LANTERN",
         "6",
         "12/1/2010 8:26",
         "3.39",
         "17850",
         "United Kingdom"
        ],
        [
         "2",
         "536365",
         "84406B",
         "CREAM CUPID HEARTS COAT HANGER",
         "8",
         "12/1/2010 8:26",
         "2.75",
         "17850",
         "United Kingdom"
        ],
        [
         "3",
         "536365",
         "84029G",
         "KNITTED UNION FLAG HOT WATER BOTTLE",
         "6",
         "12/1/2010 8:26",
         "3.39",
         "17850",
         "United Kingdom"
        ],
        [
         "4",
         "536365",
         "84029E",
         "RED WOOLLY HOTTIE WHITE HEART.",
         "6",
         "12/1/2010 8:26",
         "3.39",
         "17850",
         "United Kingdom"
        ]
       ],
       "shape": {
        "columns": 8,
        "rows": 5
       }
      },
      "text/html": [
       "<div>\n",
       "<style scoped>\n",
       "    .dataframe tbody tr th:only-of-type {\n",
       "        vertical-align: middle;\n",
       "    }\n",
       "\n",
       "    .dataframe tbody tr th {\n",
       "        vertical-align: top;\n",
       "    }\n",
       "\n",
       "    .dataframe thead th {\n",
       "        text-align: right;\n",
       "    }\n",
       "</style>\n",
       "<table border=\"1\" class=\"dataframe\">\n",
       "  <thead>\n",
       "    <tr style=\"text-align: right;\">\n",
       "      <th></th>\n",
       "      <th>InvoiceNo</th>\n",
       "      <th>StockCode</th>\n",
       "      <th>Description</th>\n",
       "      <th>Quantity</th>\n",
       "      <th>InvoiceDate</th>\n",
       "      <th>UnitPrice</th>\n",
       "      <th>CustomerID</th>\n",
       "      <th>Country</th>\n",
       "    </tr>\n",
       "  </thead>\n",
       "  <tbody>\n",
       "    <tr>\n",
       "      <th>0</th>\n",
       "      <td>536365</td>\n",
       "      <td>85123A</td>\n",
       "      <td>WHITE HANGING HEART T-LIGHT HOLDER</td>\n",
       "      <td>6</td>\n",
       "      <td>12/1/2010 8:26</td>\n",
       "      <td>2.55</td>\n",
       "      <td>17850</td>\n",
       "      <td>United Kingdom</td>\n",
       "    </tr>\n",
       "    <tr>\n",
       "      <th>1</th>\n",
       "      <td>536365</td>\n",
       "      <td>71053</td>\n",
       "      <td>WHITE METAL LANTERN</td>\n",
       "      <td>6</td>\n",
       "      <td>12/1/2010 8:26</td>\n",
       "      <td>3.39</td>\n",
       "      <td>17850</td>\n",
       "      <td>United Kingdom</td>\n",
       "    </tr>\n",
       "    <tr>\n",
       "      <th>2</th>\n",
       "      <td>536365</td>\n",
       "      <td>84406B</td>\n",
       "      <td>CREAM CUPID HEARTS COAT HANGER</td>\n",
       "      <td>8</td>\n",
       "      <td>12/1/2010 8:26</td>\n",
       "      <td>2.75</td>\n",
       "      <td>17850</td>\n",
       "      <td>United Kingdom</td>\n",
       "    </tr>\n",
       "    <tr>\n",
       "      <th>3</th>\n",
       "      <td>536365</td>\n",
       "      <td>84029G</td>\n",
       "      <td>KNITTED UNION FLAG HOT WATER BOTTLE</td>\n",
       "      <td>6</td>\n",
       "      <td>12/1/2010 8:26</td>\n",
       "      <td>3.39</td>\n",
       "      <td>17850</td>\n",
       "      <td>United Kingdom</td>\n",
       "    </tr>\n",
       "    <tr>\n",
       "      <th>4</th>\n",
       "      <td>536365</td>\n",
       "      <td>84029E</td>\n",
       "      <td>RED WOOLLY HOTTIE WHITE HEART.</td>\n",
       "      <td>6</td>\n",
       "      <td>12/1/2010 8:26</td>\n",
       "      <td>3.39</td>\n",
       "      <td>17850</td>\n",
       "      <td>United Kingdom</td>\n",
       "    </tr>\n",
       "  </tbody>\n",
       "</table>\n",
       "</div>"
      ],
      "text/plain": [
       "  InvoiceNo StockCode                          Description  Quantity  \\\n",
       "0    536365    85123A   WHITE HANGING HEART T-LIGHT HOLDER         6   \n",
       "1    536365     71053                  WHITE METAL LANTERN         6   \n",
       "2    536365    84406B       CREAM CUPID HEARTS COAT HANGER         8   \n",
       "3    536365    84029G  KNITTED UNION FLAG HOT WATER BOTTLE         6   \n",
       "4    536365    84029E       RED WOOLLY HOTTIE WHITE HEART.         6   \n",
       "\n",
       "      InvoiceDate  UnitPrice  CustomerID         Country  \n",
       "0  12/1/2010 8:26       2.55       17850  United Kingdom  \n",
       "1  12/1/2010 8:26       3.39       17850  United Kingdom  \n",
       "2  12/1/2010 8:26       2.75       17850  United Kingdom  \n",
       "3  12/1/2010 8:26       3.39       17850  United Kingdom  \n",
       "4  12/1/2010 8:26       3.39       17850  United Kingdom  "
      ]
     },
     "execution_count": 7,
     "metadata": {},
     "output_type": "execute_result"
    }
   ],
   "source": [
    "df.head()"
   ]
  },
  {
   "cell_type": "code",
   "execution_count": 8,
   "id": "6cbdb20c",
   "metadata": {},
   "outputs": [
    {
     "name": "stdout",
     "output_type": "stream",
     "text": [
      "InvoiceNo      0\n",
      "StockCode      0\n",
      "Description    0\n",
      "Quantity       0\n",
      "InvoiceDate    0\n",
      "UnitPrice      0\n",
      "CustomerID     0\n",
      "Country        0\n",
      "dtype: int64\n"
     ]
    }
   ],
   "source": [
    "print(df.isnull().sum())"
   ]
  },
  {
   "cell_type": "code",
   "execution_count": 9,
   "id": "e65a1e7b",
   "metadata": {},
   "outputs": [
    {
     "name": "stdout",
     "output_type": "stream",
     "text": [
      "True\n",
      "False\n"
     ]
    }
   ],
   "source": [
    "def check_column(column_name):\n",
    "    has_negative=(df[column_name]<0).any()\n",
    "    return has_negative\n",
    "print(check_column(\"Quantity\"))\n",
    "print(check_column(\"UnitPrice\"))"
   ]
  },
  {
   "cell_type": "code",
   "execution_count": 10,
   "id": "ba6162fe",
   "metadata": {},
   "outputs": [],
   "source": [
    "df=df[(df['Quantity'])>0]"
   ]
  },
  {
   "cell_type": "code",
   "execution_count": 11,
   "id": "4d183574",
   "metadata": {},
   "outputs": [
    {
     "name": "stdout",
     "output_type": "stream",
     "text": [
      "False\n"
     ]
    }
   ],
   "source": [
    "print(check_column(\"Quantity\"))"
   ]
  },
  {
   "cell_type": "code",
   "execution_count": 12,
   "id": "4769ad32",
   "metadata": {},
   "outputs": [],
   "source": [
    "# Create a revenue column\n",
    "df['Revenue']=df[\"Quantity\"]*df['UnitPrice']"
   ]
  },
  {
   "cell_type": "code",
   "execution_count": 13,
   "id": "de730a2d",
   "metadata": {},
   "outputs": [
    {
     "data": {
      "application/vnd.microsoft.datawrangler.viewer.v0+json": {
       "columns": [
        {
         "name": "index",
         "rawType": "int64",
         "type": "integer"
        },
        {
         "name": "InvoiceNo",
         "rawType": "object",
         "type": "string"
        },
        {
         "name": "StockCode",
         "rawType": "object",
         "type": "string"
        },
        {
         "name": "Description",
         "rawType": "object",
         "type": "string"
        },
        {
         "name": "Quantity",
         "rawType": "int64",
         "type": "integer"
        },
        {
         "name": "InvoiceDate",
         "rawType": "object",
         "type": "string"
        },
        {
         "name": "UnitPrice",
         "rawType": "float64",
         "type": "float"
        },
        {
         "name": "CustomerID",
         "rawType": "int64",
         "type": "integer"
        },
        {
         "name": "Country",
         "rawType": "object",
         "type": "string"
        },
        {
         "name": "Revenue",
         "rawType": "float64",
         "type": "float"
        }
       ],
       "ref": "97af0143-aec4-4206-b594-5b185e36de56",
       "rows": [
        [
         "0",
         "536365",
         "85123A",
         "WHITE HANGING HEART T-LIGHT HOLDER",
         "6",
         "12/1/2010 8:26",
         "2.55",
         "17850",
         "United Kingdom",
         "15.299999999999999"
        ],
        [
         "1",
         "536365",
         "71053",
         "WHITE METAL LANTERN",
         "6",
         "12/1/2010 8:26",
         "3.39",
         "17850",
         "United Kingdom",
         "20.34"
        ],
        [
         "2",
         "536365",
         "84406B",
         "CREAM CUPID HEARTS COAT HANGER",
         "8",
         "12/1/2010 8:26",
         "2.75",
         "17850",
         "United Kingdom",
         "22.0"
        ],
        [
         "3",
         "536365",
         "84029G",
         "KNITTED UNION FLAG HOT WATER BOTTLE",
         "6",
         "12/1/2010 8:26",
         "3.39",
         "17850",
         "United Kingdom",
         "20.34"
        ],
        [
         "4",
         "536365",
         "84029E",
         "RED WOOLLY HOTTIE WHITE HEART.",
         "6",
         "12/1/2010 8:26",
         "3.39",
         "17850",
         "United Kingdom",
         "20.34"
        ]
       ],
       "shape": {
        "columns": 9,
        "rows": 5
       }
      },
      "text/html": [
       "<div>\n",
       "<style scoped>\n",
       "    .dataframe tbody tr th:only-of-type {\n",
       "        vertical-align: middle;\n",
       "    }\n",
       "\n",
       "    .dataframe tbody tr th {\n",
       "        vertical-align: top;\n",
       "    }\n",
       "\n",
       "    .dataframe thead th {\n",
       "        text-align: right;\n",
       "    }\n",
       "</style>\n",
       "<table border=\"1\" class=\"dataframe\">\n",
       "  <thead>\n",
       "    <tr style=\"text-align: right;\">\n",
       "      <th></th>\n",
       "      <th>InvoiceNo</th>\n",
       "      <th>StockCode</th>\n",
       "      <th>Description</th>\n",
       "      <th>Quantity</th>\n",
       "      <th>InvoiceDate</th>\n",
       "      <th>UnitPrice</th>\n",
       "      <th>CustomerID</th>\n",
       "      <th>Country</th>\n",
       "      <th>Revenue</th>\n",
       "    </tr>\n",
       "  </thead>\n",
       "  <tbody>\n",
       "    <tr>\n",
       "      <th>0</th>\n",
       "      <td>536365</td>\n",
       "      <td>85123A</td>\n",
       "      <td>WHITE HANGING HEART T-LIGHT HOLDER</td>\n",
       "      <td>6</td>\n",
       "      <td>12/1/2010 8:26</td>\n",
       "      <td>2.55</td>\n",
       "      <td>17850</td>\n",
       "      <td>United Kingdom</td>\n",
       "      <td>15.30</td>\n",
       "    </tr>\n",
       "    <tr>\n",
       "      <th>1</th>\n",
       "      <td>536365</td>\n",
       "      <td>71053</td>\n",
       "      <td>WHITE METAL LANTERN</td>\n",
       "      <td>6</td>\n",
       "      <td>12/1/2010 8:26</td>\n",
       "      <td>3.39</td>\n",
       "      <td>17850</td>\n",
       "      <td>United Kingdom</td>\n",
       "      <td>20.34</td>\n",
       "    </tr>\n",
       "    <tr>\n",
       "      <th>2</th>\n",
       "      <td>536365</td>\n",
       "      <td>84406B</td>\n",
       "      <td>CREAM CUPID HEARTS COAT HANGER</td>\n",
       "      <td>8</td>\n",
       "      <td>12/1/2010 8:26</td>\n",
       "      <td>2.75</td>\n",
       "      <td>17850</td>\n",
       "      <td>United Kingdom</td>\n",
       "      <td>22.00</td>\n",
       "    </tr>\n",
       "    <tr>\n",
       "      <th>3</th>\n",
       "      <td>536365</td>\n",
       "      <td>84029G</td>\n",
       "      <td>KNITTED UNION FLAG HOT WATER BOTTLE</td>\n",
       "      <td>6</td>\n",
       "      <td>12/1/2010 8:26</td>\n",
       "      <td>3.39</td>\n",
       "      <td>17850</td>\n",
       "      <td>United Kingdom</td>\n",
       "      <td>20.34</td>\n",
       "    </tr>\n",
       "    <tr>\n",
       "      <th>4</th>\n",
       "      <td>536365</td>\n",
       "      <td>84029E</td>\n",
       "      <td>RED WOOLLY HOTTIE WHITE HEART.</td>\n",
       "      <td>6</td>\n",
       "      <td>12/1/2010 8:26</td>\n",
       "      <td>3.39</td>\n",
       "      <td>17850</td>\n",
       "      <td>United Kingdom</td>\n",
       "      <td>20.34</td>\n",
       "    </tr>\n",
       "  </tbody>\n",
       "</table>\n",
       "</div>"
      ],
      "text/plain": [
       "  InvoiceNo StockCode                          Description  Quantity  \\\n",
       "0    536365    85123A   WHITE HANGING HEART T-LIGHT HOLDER         6   \n",
       "1    536365     71053                  WHITE METAL LANTERN         6   \n",
       "2    536365    84406B       CREAM CUPID HEARTS COAT HANGER         8   \n",
       "3    536365    84029G  KNITTED UNION FLAG HOT WATER BOTTLE         6   \n",
       "4    536365    84029E       RED WOOLLY HOTTIE WHITE HEART.         6   \n",
       "\n",
       "      InvoiceDate  UnitPrice  CustomerID         Country  Revenue  \n",
       "0  12/1/2010 8:26       2.55       17850  United Kingdom    15.30  \n",
       "1  12/1/2010 8:26       3.39       17850  United Kingdom    20.34  \n",
       "2  12/1/2010 8:26       2.75       17850  United Kingdom    22.00  \n",
       "3  12/1/2010 8:26       3.39       17850  United Kingdom    20.34  \n",
       "4  12/1/2010 8:26       3.39       17850  United Kingdom    20.34  "
      ]
     },
     "execution_count": 13,
     "metadata": {},
     "output_type": "execute_result"
    }
   ],
   "source": [
    "df.head()"
   ]
  },
  {
   "cell_type": "code",
   "execution_count": 14,
   "id": "bfc02606",
   "metadata": {},
   "outputs": [],
   "source": [
    "# Convert invoice Data\n",
    "df['InvoiceDate']=pd.to_datetime(df['InvoiceDate'])"
   ]
  },
  {
   "cell_type": "code",
   "execution_count": 15,
   "id": "cb86ff92",
   "metadata": {},
   "outputs": [
    {
     "data": {
      "application/vnd.microsoft.datawrangler.viewer.v0+json": {
       "columns": [
        {
         "name": "index",
         "rawType": "int64",
         "type": "integer"
        },
        {
         "name": "InvoiceNo",
         "rawType": "object",
         "type": "string"
        },
        {
         "name": "StockCode",
         "rawType": "object",
         "type": "string"
        },
        {
         "name": "Description",
         "rawType": "object",
         "type": "string"
        },
        {
         "name": "Quantity",
         "rawType": "int64",
         "type": "integer"
        },
        {
         "name": "InvoiceDate",
         "rawType": "datetime64[ns]",
         "type": "datetime"
        },
        {
         "name": "UnitPrice",
         "rawType": "float64",
         "type": "float"
        },
        {
         "name": "CustomerID",
         "rawType": "int64",
         "type": "integer"
        },
        {
         "name": "Country",
         "rawType": "object",
         "type": "string"
        },
        {
         "name": "Revenue",
         "rawType": "float64",
         "type": "float"
        }
       ],
       "ref": "5a724813-b719-4284-bf2f-fe28c9e5fad9",
       "rows": [
        [
         "0",
         "536365",
         "85123A",
         "WHITE HANGING HEART T-LIGHT HOLDER",
         "6",
         "2010-12-01 08:26:00",
         "2.55",
         "17850",
         "United Kingdom",
         "15.299999999999999"
        ],
        [
         "1",
         "536365",
         "71053",
         "WHITE METAL LANTERN",
         "6",
         "2010-12-01 08:26:00",
         "3.39",
         "17850",
         "United Kingdom",
         "20.34"
        ],
        [
         "2",
         "536365",
         "84406B",
         "CREAM CUPID HEARTS COAT HANGER",
         "8",
         "2010-12-01 08:26:00",
         "2.75",
         "17850",
         "United Kingdom",
         "22.0"
        ],
        [
         "3",
         "536365",
         "84029G",
         "KNITTED UNION FLAG HOT WATER BOTTLE",
         "6",
         "2010-12-01 08:26:00",
         "3.39",
         "17850",
         "United Kingdom",
         "20.34"
        ],
        [
         "4",
         "536365",
         "84029E",
         "RED WOOLLY HOTTIE WHITE HEART.",
         "6",
         "2010-12-01 08:26:00",
         "3.39",
         "17850",
         "United Kingdom",
         "20.34"
        ]
       ],
       "shape": {
        "columns": 9,
        "rows": 5
       }
      },
      "text/html": [
       "<div>\n",
       "<style scoped>\n",
       "    .dataframe tbody tr th:only-of-type {\n",
       "        vertical-align: middle;\n",
       "    }\n",
       "\n",
       "    .dataframe tbody tr th {\n",
       "        vertical-align: top;\n",
       "    }\n",
       "\n",
       "    .dataframe thead th {\n",
       "        text-align: right;\n",
       "    }\n",
       "</style>\n",
       "<table border=\"1\" class=\"dataframe\">\n",
       "  <thead>\n",
       "    <tr style=\"text-align: right;\">\n",
       "      <th></th>\n",
       "      <th>InvoiceNo</th>\n",
       "      <th>StockCode</th>\n",
       "      <th>Description</th>\n",
       "      <th>Quantity</th>\n",
       "      <th>InvoiceDate</th>\n",
       "      <th>UnitPrice</th>\n",
       "      <th>CustomerID</th>\n",
       "      <th>Country</th>\n",
       "      <th>Revenue</th>\n",
       "    </tr>\n",
       "  </thead>\n",
       "  <tbody>\n",
       "    <tr>\n",
       "      <th>0</th>\n",
       "      <td>536365</td>\n",
       "      <td>85123A</td>\n",
       "      <td>WHITE HANGING HEART T-LIGHT HOLDER</td>\n",
       "      <td>6</td>\n",
       "      <td>2010-12-01 08:26:00</td>\n",
       "      <td>2.55</td>\n",
       "      <td>17850</td>\n",
       "      <td>United Kingdom</td>\n",
       "      <td>15.30</td>\n",
       "    </tr>\n",
       "    <tr>\n",
       "      <th>1</th>\n",
       "      <td>536365</td>\n",
       "      <td>71053</td>\n",
       "      <td>WHITE METAL LANTERN</td>\n",
       "      <td>6</td>\n",
       "      <td>2010-12-01 08:26:00</td>\n",
       "      <td>3.39</td>\n",
       "      <td>17850</td>\n",
       "      <td>United Kingdom</td>\n",
       "      <td>20.34</td>\n",
       "    </tr>\n",
       "    <tr>\n",
       "      <th>2</th>\n",
       "      <td>536365</td>\n",
       "      <td>84406B</td>\n",
       "      <td>CREAM CUPID HEARTS COAT HANGER</td>\n",
       "      <td>8</td>\n",
       "      <td>2010-12-01 08:26:00</td>\n",
       "      <td>2.75</td>\n",
       "      <td>17850</td>\n",
       "      <td>United Kingdom</td>\n",
       "      <td>22.00</td>\n",
       "    </tr>\n",
       "    <tr>\n",
       "      <th>3</th>\n",
       "      <td>536365</td>\n",
       "      <td>84029G</td>\n",
       "      <td>KNITTED UNION FLAG HOT WATER BOTTLE</td>\n",
       "      <td>6</td>\n",
       "      <td>2010-12-01 08:26:00</td>\n",
       "      <td>3.39</td>\n",
       "      <td>17850</td>\n",
       "      <td>United Kingdom</td>\n",
       "      <td>20.34</td>\n",
       "    </tr>\n",
       "    <tr>\n",
       "      <th>4</th>\n",
       "      <td>536365</td>\n",
       "      <td>84029E</td>\n",
       "      <td>RED WOOLLY HOTTIE WHITE HEART.</td>\n",
       "      <td>6</td>\n",
       "      <td>2010-12-01 08:26:00</td>\n",
       "      <td>3.39</td>\n",
       "      <td>17850</td>\n",
       "      <td>United Kingdom</td>\n",
       "      <td>20.34</td>\n",
       "    </tr>\n",
       "  </tbody>\n",
       "</table>\n",
       "</div>"
      ],
      "text/plain": [
       "  InvoiceNo StockCode                          Description  Quantity  \\\n",
       "0    536365    85123A   WHITE HANGING HEART T-LIGHT HOLDER         6   \n",
       "1    536365     71053                  WHITE METAL LANTERN         6   \n",
       "2    536365    84406B       CREAM CUPID HEARTS COAT HANGER         8   \n",
       "3    536365    84029G  KNITTED UNION FLAG HOT WATER BOTTLE         6   \n",
       "4    536365    84029E       RED WOOLLY HOTTIE WHITE HEART.         6   \n",
       "\n",
       "          InvoiceDate  UnitPrice  CustomerID         Country  Revenue  \n",
       "0 2010-12-01 08:26:00       2.55       17850  United Kingdom    15.30  \n",
       "1 2010-12-01 08:26:00       3.39       17850  United Kingdom    20.34  \n",
       "2 2010-12-01 08:26:00       2.75       17850  United Kingdom    22.00  \n",
       "3 2010-12-01 08:26:00       3.39       17850  United Kingdom    20.34  \n",
       "4 2010-12-01 08:26:00       3.39       17850  United Kingdom    20.34  "
      ]
     },
     "execution_count": 15,
     "metadata": {},
     "output_type": "execute_result"
    }
   ],
   "source": [
    "df.head()"
   ]
  },
  {
   "cell_type": "markdown",
   "id": "d66e6a8b",
   "metadata": {},
   "source": [
    "**Step3: Feature Engineer (RFM Analysis)**"
   ]
  },
  {
   "cell_type": "code",
   "execution_count": 16,
   "id": "a205f652",
   "metadata": {},
   "outputs": [],
   "source": [
    "# Set a Reference Data \n",
    "# Use the day after the last transaction as the reference point for recency.\n",
    "reference_date=df['InvoiceDate'].max() + pd.Timedelta(days=1)\n",
    "# Calcualte RFM\n",
    "# Recency: Days since the customer's last purchase\n",
    "# Frequency: Number of purchase (involve) percustomer.\n",
    "# Monetary: Total revenue per customer.\n",
    "rfm=df.groupby('CustomerID').agg({\n",
    "    'InvoiceDate': lambda x: (reference_date - x.max()).days, # Recency\n",
    "    'InvoiceNo':'nunique',                                   # Frequency\n",
    "    'Revenue': 'sum'                                        # Monetary\n",
    "}).reset_index()\n",
    "rfm.columns=['CustomerID','Recency','Frequency','Monetary']"
   ]
  },
  {
   "cell_type": "code",
   "execution_count": 17,
   "id": "f1eaad8b",
   "metadata": {},
   "outputs": [
    {
     "name": "stdout",
     "output_type": "stream",
     "text": [
      "   CustomerID  Recency  Frequency  Monetary\n",
      "0       12346      326          1  77183.60\n",
      "1       12347        2          7   4310.00\n",
      "2       12348       75          4   1797.24\n",
      "3       12349       19          1   1757.55\n",
      "4       12350      310          1    334.40\n"
     ]
    }
   ],
   "source": [
    "print(rfm.head())"
   ]
  },
  {
   "cell_type": "code",
   "execution_count": 18,
   "id": "efdc0067",
   "metadata": {},
   "outputs": [],
   "source": [
    "# Additional Features\n",
    "# - Average order value: Total revenue divided by frequency\n",
    "# - Purchase Tenure: Days between first and last purchase.\n",
    "\n",
    "rfm['AvgOrderValue']= rfm['Monetary'] / rfm['Frequency']\n",
    "tenure=df.groupby('CustomerID')['InvoiceDate'].agg(lambda x: (x.max() - x.min()).days).reset_index()\n",
    "tenure.columns=['CustomerID','Tenure']\n",
    "rfm=rfm.merge(tenure, on='CustomerID')"
   ]
  },
  {
   "cell_type": "code",
   "execution_count": 19,
   "id": "7b805f8e",
   "metadata": {},
   "outputs": [
    {
     "data": {
      "application/vnd.microsoft.datawrangler.viewer.v0+json": {
       "columns": [
        {
         "name": "index",
         "rawType": "int64",
         "type": "integer"
        },
        {
         "name": "CustomerID",
         "rawType": "int64",
         "type": "integer"
        },
        {
         "name": "Recency",
         "rawType": "int64",
         "type": "integer"
        },
        {
         "name": "Frequency",
         "rawType": "int64",
         "type": "integer"
        },
        {
         "name": "Monetary",
         "rawType": "float64",
         "type": "float"
        },
        {
         "name": "AvgOrderValue",
         "rawType": "float64",
         "type": "float"
        },
        {
         "name": "Tenure",
         "rawType": "int64",
         "type": "integer"
        }
       ],
       "ref": "c6f68fde-77d4-43e0-bb07-aed7bb5e7030",
       "rows": [
        [
         "0",
         "12346",
         "326",
         "1",
         "77183.6",
         "77183.6",
         "0"
        ],
        [
         "1",
         "12347",
         "2",
         "7",
         "4310.0",
         "615.7142857142857",
         "365"
        ],
        [
         "2",
         "12348",
         "75",
         "4",
         "1797.24",
         "449.31",
         "282"
        ],
        [
         "3",
         "12349",
         "19",
         "1",
         "1757.55",
         "1757.55",
         "0"
        ],
        [
         "4",
         "12350",
         "310",
         "1",
         "334.4",
         "334.4",
         "0"
        ]
       ],
       "shape": {
        "columns": 6,
        "rows": 5
       }
      },
      "text/html": [
       "<div>\n",
       "<style scoped>\n",
       "    .dataframe tbody tr th:only-of-type {\n",
       "        vertical-align: middle;\n",
       "    }\n",
       "\n",
       "    .dataframe tbody tr th {\n",
       "        vertical-align: top;\n",
       "    }\n",
       "\n",
       "    .dataframe thead th {\n",
       "        text-align: right;\n",
       "    }\n",
       "</style>\n",
       "<table border=\"1\" class=\"dataframe\">\n",
       "  <thead>\n",
       "    <tr style=\"text-align: right;\">\n",
       "      <th></th>\n",
       "      <th>CustomerID</th>\n",
       "      <th>Recency</th>\n",
       "      <th>Frequency</th>\n",
       "      <th>Monetary</th>\n",
       "      <th>AvgOrderValue</th>\n",
       "      <th>Tenure</th>\n",
       "    </tr>\n",
       "  </thead>\n",
       "  <tbody>\n",
       "    <tr>\n",
       "      <th>0</th>\n",
       "      <td>12346</td>\n",
       "      <td>326</td>\n",
       "      <td>1</td>\n",
       "      <td>77183.60</td>\n",
       "      <td>77183.600000</td>\n",
       "      <td>0</td>\n",
       "    </tr>\n",
       "    <tr>\n",
       "      <th>1</th>\n",
       "      <td>12347</td>\n",
       "      <td>2</td>\n",
       "      <td>7</td>\n",
       "      <td>4310.00</td>\n",
       "      <td>615.714286</td>\n",
       "      <td>365</td>\n",
       "    </tr>\n",
       "    <tr>\n",
       "      <th>2</th>\n",
       "      <td>12348</td>\n",
       "      <td>75</td>\n",
       "      <td>4</td>\n",
       "      <td>1797.24</td>\n",
       "      <td>449.310000</td>\n",
       "      <td>282</td>\n",
       "    </tr>\n",
       "    <tr>\n",
       "      <th>3</th>\n",
       "      <td>12349</td>\n",
       "      <td>19</td>\n",
       "      <td>1</td>\n",
       "      <td>1757.55</td>\n",
       "      <td>1757.550000</td>\n",
       "      <td>0</td>\n",
       "    </tr>\n",
       "    <tr>\n",
       "      <th>4</th>\n",
       "      <td>12350</td>\n",
       "      <td>310</td>\n",
       "      <td>1</td>\n",
       "      <td>334.40</td>\n",
       "      <td>334.400000</td>\n",
       "      <td>0</td>\n",
       "    </tr>\n",
       "  </tbody>\n",
       "</table>\n",
       "</div>"
      ],
      "text/plain": [
       "   CustomerID  Recency  Frequency  Monetary  AvgOrderValue  Tenure\n",
       "0       12346      326          1  77183.60   77183.600000       0\n",
       "1       12347        2          7   4310.00     615.714286     365\n",
       "2       12348       75          4   1797.24     449.310000     282\n",
       "3       12349       19          1   1757.55    1757.550000       0\n",
       "4       12350      310          1    334.40     334.400000       0"
      ]
     },
     "execution_count": 19,
     "metadata": {},
     "output_type": "execute_result"
    }
   ],
   "source": [
    "rfm.head()"
   ]
  },
  {
   "cell_type": "markdown",
   "id": "ef6aaf55",
   "metadata": {},
   "source": [
    "***Handle skewness***:\n",
    "- Apply log transformation to Monetary and AvgOrdervalue to reduce skewness (similar to your preprocessing on Apr 10, 2025)"
   ]
  },
  {
   "cell_type": "code",
   "execution_count": 20,
   "id": "2acee977",
   "metadata": {},
   "outputs": [],
   "source": [
    "import numpy as np\n",
    "rfm['Log_Monetary']=np.log1p(rfm['Monetary'])\n",
    "rfm['Log_AvgOrderValue']=np.log1p(rfm['AvgOrderValue'])"
   ]
  },
  {
   "cell_type": "markdown",
   "id": "9f4922c4",
   "metadata": {},
   "source": [
    "**Calculate Historical CLV**"
   ]
  },
  {
   "cell_type": "code",
   "execution_count": 21,
   "id": "f4159d37",
   "metadata": {},
   "outputs": [],
   "source": [
    "# Target variable\n",
    "rfm['CLV']=rfm['Monetary']"
   ]
  },
  {
   "cell_type": "code",
   "execution_count": 22,
   "id": "4ff1b72a",
   "metadata": {},
   "outputs": [],
   "source": [
    "# Train a Gradient Boosting Model\n",
    "\n",
    "# Prepare Feature and Target\n",
    "from sklearn.model_selection import train_test_split\n",
    "from xgboost import XGBRegressor\n",
    "\n",
    "# Features: Recency, Frequency, Log_Monetary, Log_AvgOrderValue, Tenure\n",
    "X = rfm[['Recency', 'Frequency', 'Log_Monetary', 'Log_AvgOrderValue', 'Tenure']]\n",
    "y = rfm['CLV']\n",
    "\n",
    "# Split data (80% train, 20% test)\n",
    "X_train, X_test, y_train, y_test = train_test_split(X, y, test_size=0.2, random_state=42)"
   ]
  },
  {
   "cell_type": "code",
   "execution_count": 24,
   "id": "d9c7c368",
   "metadata": {},
   "outputs": [
    {
     "data": {
      "text/html": [
       "<style>#sk-container-id-2 {\n",
       "  /* Definition of color scheme common for light and dark mode */\n",
       "  --sklearn-color-text: #000;\n",
       "  --sklearn-color-text-muted: #666;\n",
       "  --sklearn-color-line: gray;\n",
       "  /* Definition of color scheme for unfitted estimators */\n",
       "  --sklearn-color-unfitted-level-0: #fff5e6;\n",
       "  --sklearn-color-unfitted-level-1: #f6e4d2;\n",
       "  --sklearn-color-unfitted-level-2: #ffe0b3;\n",
       "  --sklearn-color-unfitted-level-3: chocolate;\n",
       "  /* Definition of color scheme for fitted estimators */\n",
       "  --sklearn-color-fitted-level-0: #f0f8ff;\n",
       "  --sklearn-color-fitted-level-1: #d4ebff;\n",
       "  --sklearn-color-fitted-level-2: #b3dbfd;\n",
       "  --sklearn-color-fitted-level-3: cornflowerblue;\n",
       "\n",
       "  /* Specific color for light theme */\n",
       "  --sklearn-color-text-on-default-background: var(--sg-text-color, var(--theme-code-foreground, var(--jp-content-font-color1, black)));\n",
       "  --sklearn-color-background: var(--sg-background-color, var(--theme-background, var(--jp-layout-color0, white)));\n",
       "  --sklearn-color-border-box: var(--sg-text-color, var(--theme-code-foreground, var(--jp-content-font-color1, black)));\n",
       "  --sklearn-color-icon: #696969;\n",
       "\n",
       "  @media (prefers-color-scheme: dark) {\n",
       "    /* Redefinition of color scheme for dark theme */\n",
       "    --sklearn-color-text-on-default-background: var(--sg-text-color, var(--theme-code-foreground, var(--jp-content-font-color1, white)));\n",
       "    --sklearn-color-background: var(--sg-background-color, var(--theme-background, var(--jp-layout-color0, #111)));\n",
       "    --sklearn-color-border-box: var(--sg-text-color, var(--theme-code-foreground, var(--jp-content-font-color1, white)));\n",
       "    --sklearn-color-icon: #878787;\n",
       "  }\n",
       "}\n",
       "\n",
       "#sk-container-id-2 {\n",
       "  color: var(--sklearn-color-text);\n",
       "}\n",
       "\n",
       "#sk-container-id-2 pre {\n",
       "  padding: 0;\n",
       "}\n",
       "\n",
       "#sk-container-id-2 input.sk-hidden--visually {\n",
       "  border: 0;\n",
       "  clip: rect(1px 1px 1px 1px);\n",
       "  clip: rect(1px, 1px, 1px, 1px);\n",
       "  height: 1px;\n",
       "  margin: -1px;\n",
       "  overflow: hidden;\n",
       "  padding: 0;\n",
       "  position: absolute;\n",
       "  width: 1px;\n",
       "}\n",
       "\n",
       "#sk-container-id-2 div.sk-dashed-wrapped {\n",
       "  border: 1px dashed var(--sklearn-color-line);\n",
       "  margin: 0 0.4em 0.5em 0.4em;\n",
       "  box-sizing: border-box;\n",
       "  padding-bottom: 0.4em;\n",
       "  background-color: var(--sklearn-color-background);\n",
       "}\n",
       "\n",
       "#sk-container-id-2 div.sk-container {\n",
       "  /* jupyter's `normalize.less` sets `[hidden] { display: none; }`\n",
       "     but bootstrap.min.css set `[hidden] { display: none !important; }`\n",
       "     so we also need the `!important` here to be able to override the\n",
       "     default hidden behavior on the sphinx rendered scikit-learn.org.\n",
       "     See: https://github.com/scikit-learn/scikit-learn/issues/21755 */\n",
       "  display: inline-block !important;\n",
       "  position: relative;\n",
       "}\n",
       "\n",
       "#sk-container-id-2 div.sk-text-repr-fallback {\n",
       "  display: none;\n",
       "}\n",
       "\n",
       "div.sk-parallel-item,\n",
       "div.sk-serial,\n",
       "div.sk-item {\n",
       "  /* draw centered vertical line to link estimators */\n",
       "  background-image: linear-gradient(var(--sklearn-color-text-on-default-background), var(--sklearn-color-text-on-default-background));\n",
       "  background-size: 2px 100%;\n",
       "  background-repeat: no-repeat;\n",
       "  background-position: center center;\n",
       "}\n",
       "\n",
       "/* Parallel-specific style estimator block */\n",
       "\n",
       "#sk-container-id-2 div.sk-parallel-item::after {\n",
       "  content: \"\";\n",
       "  width: 100%;\n",
       "  border-bottom: 2px solid var(--sklearn-color-text-on-default-background);\n",
       "  flex-grow: 1;\n",
       "}\n",
       "\n",
       "#sk-container-id-2 div.sk-parallel {\n",
       "  display: flex;\n",
       "  align-items: stretch;\n",
       "  justify-content: center;\n",
       "  background-color: var(--sklearn-color-background);\n",
       "  position: relative;\n",
       "}\n",
       "\n",
       "#sk-container-id-2 div.sk-parallel-item {\n",
       "  display: flex;\n",
       "  flex-direction: column;\n",
       "}\n",
       "\n",
       "#sk-container-id-2 div.sk-parallel-item:first-child::after {\n",
       "  align-self: flex-end;\n",
       "  width: 50%;\n",
       "}\n",
       "\n",
       "#sk-container-id-2 div.sk-parallel-item:last-child::after {\n",
       "  align-self: flex-start;\n",
       "  width: 50%;\n",
       "}\n",
       "\n",
       "#sk-container-id-2 div.sk-parallel-item:only-child::after {\n",
       "  width: 0;\n",
       "}\n",
       "\n",
       "/* Serial-specific style estimator block */\n",
       "\n",
       "#sk-container-id-2 div.sk-serial {\n",
       "  display: flex;\n",
       "  flex-direction: column;\n",
       "  align-items: center;\n",
       "  background-color: var(--sklearn-color-background);\n",
       "  padding-right: 1em;\n",
       "  padding-left: 1em;\n",
       "}\n",
       "\n",
       "\n",
       "/* Toggleable style: style used for estimator/Pipeline/ColumnTransformer box that is\n",
       "clickable and can be expanded/collapsed.\n",
       "- Pipeline and ColumnTransformer use this feature and define the default style\n",
       "- Estimators will overwrite some part of the style using the `sk-estimator` class\n",
       "*/\n",
       "\n",
       "/* Pipeline and ColumnTransformer style (default) */\n",
       "\n",
       "#sk-container-id-2 div.sk-toggleable {\n",
       "  /* Default theme specific background. It is overwritten whether we have a\n",
       "  specific estimator or a Pipeline/ColumnTransformer */\n",
       "  background-color: var(--sklearn-color-background);\n",
       "}\n",
       "\n",
       "/* Toggleable label */\n",
       "#sk-container-id-2 label.sk-toggleable__label {\n",
       "  cursor: pointer;\n",
       "  display: flex;\n",
       "  width: 100%;\n",
       "  margin-bottom: 0;\n",
       "  padding: 0.5em;\n",
       "  box-sizing: border-box;\n",
       "  text-align: center;\n",
       "  align-items: start;\n",
       "  justify-content: space-between;\n",
       "  gap: 0.5em;\n",
       "}\n",
       "\n",
       "#sk-container-id-2 label.sk-toggleable__label .caption {\n",
       "  font-size: 0.6rem;\n",
       "  font-weight: lighter;\n",
       "  color: var(--sklearn-color-text-muted);\n",
       "}\n",
       "\n",
       "#sk-container-id-2 label.sk-toggleable__label-arrow:before {\n",
       "  /* Arrow on the left of the label */\n",
       "  content: \"▸\";\n",
       "  float: left;\n",
       "  margin-right: 0.25em;\n",
       "  color: var(--sklearn-color-icon);\n",
       "}\n",
       "\n",
       "#sk-container-id-2 label.sk-toggleable__label-arrow:hover:before {\n",
       "  color: var(--sklearn-color-text);\n",
       "}\n",
       "\n",
       "/* Toggleable content - dropdown */\n",
       "\n",
       "#sk-container-id-2 div.sk-toggleable__content {\n",
       "  max-height: 0;\n",
       "  max-width: 0;\n",
       "  overflow: hidden;\n",
       "  text-align: left;\n",
       "  /* unfitted */\n",
       "  background-color: var(--sklearn-color-unfitted-level-0);\n",
       "}\n",
       "\n",
       "#sk-container-id-2 div.sk-toggleable__content.fitted {\n",
       "  /* fitted */\n",
       "  background-color: var(--sklearn-color-fitted-level-0);\n",
       "}\n",
       "\n",
       "#sk-container-id-2 div.sk-toggleable__content pre {\n",
       "  margin: 0.2em;\n",
       "  border-radius: 0.25em;\n",
       "  color: var(--sklearn-color-text);\n",
       "  /* unfitted */\n",
       "  background-color: var(--sklearn-color-unfitted-level-0);\n",
       "}\n",
       "\n",
       "#sk-container-id-2 div.sk-toggleable__content.fitted pre {\n",
       "  /* unfitted */\n",
       "  background-color: var(--sklearn-color-fitted-level-0);\n",
       "}\n",
       "\n",
       "#sk-container-id-2 input.sk-toggleable__control:checked~div.sk-toggleable__content {\n",
       "  /* Expand drop-down */\n",
       "  max-height: 200px;\n",
       "  max-width: 100%;\n",
       "  overflow: auto;\n",
       "}\n",
       "\n",
       "#sk-container-id-2 input.sk-toggleable__control:checked~label.sk-toggleable__label-arrow:before {\n",
       "  content: \"▾\";\n",
       "}\n",
       "\n",
       "/* Pipeline/ColumnTransformer-specific style */\n",
       "\n",
       "#sk-container-id-2 div.sk-label input.sk-toggleable__control:checked~label.sk-toggleable__label {\n",
       "  color: var(--sklearn-color-text);\n",
       "  background-color: var(--sklearn-color-unfitted-level-2);\n",
       "}\n",
       "\n",
       "#sk-container-id-2 div.sk-label.fitted input.sk-toggleable__control:checked~label.sk-toggleable__label {\n",
       "  background-color: var(--sklearn-color-fitted-level-2);\n",
       "}\n",
       "\n",
       "/* Estimator-specific style */\n",
       "\n",
       "/* Colorize estimator box */\n",
       "#sk-container-id-2 div.sk-estimator input.sk-toggleable__control:checked~label.sk-toggleable__label {\n",
       "  /* unfitted */\n",
       "  background-color: var(--sklearn-color-unfitted-level-2);\n",
       "}\n",
       "\n",
       "#sk-container-id-2 div.sk-estimator.fitted input.sk-toggleable__control:checked~label.sk-toggleable__label {\n",
       "  /* fitted */\n",
       "  background-color: var(--sklearn-color-fitted-level-2);\n",
       "}\n",
       "\n",
       "#sk-container-id-2 div.sk-label label.sk-toggleable__label,\n",
       "#sk-container-id-2 div.sk-label label {\n",
       "  /* The background is the default theme color */\n",
       "  color: var(--sklearn-color-text-on-default-background);\n",
       "}\n",
       "\n",
       "/* On hover, darken the color of the background */\n",
       "#sk-container-id-2 div.sk-label:hover label.sk-toggleable__label {\n",
       "  color: var(--sklearn-color-text);\n",
       "  background-color: var(--sklearn-color-unfitted-level-2);\n",
       "}\n",
       "\n",
       "/* Label box, darken color on hover, fitted */\n",
       "#sk-container-id-2 div.sk-label.fitted:hover label.sk-toggleable__label.fitted {\n",
       "  color: var(--sklearn-color-text);\n",
       "  background-color: var(--sklearn-color-fitted-level-2);\n",
       "}\n",
       "\n",
       "/* Estimator label */\n",
       "\n",
       "#sk-container-id-2 div.sk-label label {\n",
       "  font-family: monospace;\n",
       "  font-weight: bold;\n",
       "  display: inline-block;\n",
       "  line-height: 1.2em;\n",
       "}\n",
       "\n",
       "#sk-container-id-2 div.sk-label-container {\n",
       "  text-align: center;\n",
       "}\n",
       "\n",
       "/* Estimator-specific */\n",
       "#sk-container-id-2 div.sk-estimator {\n",
       "  font-family: monospace;\n",
       "  border: 1px dotted var(--sklearn-color-border-box);\n",
       "  border-radius: 0.25em;\n",
       "  box-sizing: border-box;\n",
       "  margin-bottom: 0.5em;\n",
       "  /* unfitted */\n",
       "  background-color: var(--sklearn-color-unfitted-level-0);\n",
       "}\n",
       "\n",
       "#sk-container-id-2 div.sk-estimator.fitted {\n",
       "  /* fitted */\n",
       "  background-color: var(--sklearn-color-fitted-level-0);\n",
       "}\n",
       "\n",
       "/* on hover */\n",
       "#sk-container-id-2 div.sk-estimator:hover {\n",
       "  /* unfitted */\n",
       "  background-color: var(--sklearn-color-unfitted-level-2);\n",
       "}\n",
       "\n",
       "#sk-container-id-2 div.sk-estimator.fitted:hover {\n",
       "  /* fitted */\n",
       "  background-color: var(--sklearn-color-fitted-level-2);\n",
       "}\n",
       "\n",
       "/* Specification for estimator info (e.g. \"i\" and \"?\") */\n",
       "\n",
       "/* Common style for \"i\" and \"?\" */\n",
       "\n",
       ".sk-estimator-doc-link,\n",
       "a:link.sk-estimator-doc-link,\n",
       "a:visited.sk-estimator-doc-link {\n",
       "  float: right;\n",
       "  font-size: smaller;\n",
       "  line-height: 1em;\n",
       "  font-family: monospace;\n",
       "  background-color: var(--sklearn-color-background);\n",
       "  border-radius: 1em;\n",
       "  height: 1em;\n",
       "  width: 1em;\n",
       "  text-decoration: none !important;\n",
       "  margin-left: 0.5em;\n",
       "  text-align: center;\n",
       "  /* unfitted */\n",
       "  border: var(--sklearn-color-unfitted-level-1) 1pt solid;\n",
       "  color: var(--sklearn-color-unfitted-level-1);\n",
       "}\n",
       "\n",
       ".sk-estimator-doc-link.fitted,\n",
       "a:link.sk-estimator-doc-link.fitted,\n",
       "a:visited.sk-estimator-doc-link.fitted {\n",
       "  /* fitted */\n",
       "  border: var(--sklearn-color-fitted-level-1) 1pt solid;\n",
       "  color: var(--sklearn-color-fitted-level-1);\n",
       "}\n",
       "\n",
       "/* On hover */\n",
       "div.sk-estimator:hover .sk-estimator-doc-link:hover,\n",
       ".sk-estimator-doc-link:hover,\n",
       "div.sk-label-container:hover .sk-estimator-doc-link:hover,\n",
       ".sk-estimator-doc-link:hover {\n",
       "  /* unfitted */\n",
       "  background-color: var(--sklearn-color-unfitted-level-3);\n",
       "  color: var(--sklearn-color-background);\n",
       "  text-decoration: none;\n",
       "}\n",
       "\n",
       "div.sk-estimator.fitted:hover .sk-estimator-doc-link.fitted:hover,\n",
       ".sk-estimator-doc-link.fitted:hover,\n",
       "div.sk-label-container:hover .sk-estimator-doc-link.fitted:hover,\n",
       ".sk-estimator-doc-link.fitted:hover {\n",
       "  /* fitted */\n",
       "  background-color: var(--sklearn-color-fitted-level-3);\n",
       "  color: var(--sklearn-color-background);\n",
       "  text-decoration: none;\n",
       "}\n",
       "\n",
       "/* Span, style for the box shown on hovering the info icon */\n",
       ".sk-estimator-doc-link span {\n",
       "  display: none;\n",
       "  z-index: 9999;\n",
       "  position: relative;\n",
       "  font-weight: normal;\n",
       "  right: .2ex;\n",
       "  padding: .5ex;\n",
       "  margin: .5ex;\n",
       "  width: min-content;\n",
       "  min-width: 20ex;\n",
       "  max-width: 50ex;\n",
       "  color: var(--sklearn-color-text);\n",
       "  box-shadow: 2pt 2pt 4pt #999;\n",
       "  /* unfitted */\n",
       "  background: var(--sklearn-color-unfitted-level-0);\n",
       "  border: .5pt solid var(--sklearn-color-unfitted-level-3);\n",
       "}\n",
       "\n",
       ".sk-estimator-doc-link.fitted span {\n",
       "  /* fitted */\n",
       "  background: var(--sklearn-color-fitted-level-0);\n",
       "  border: var(--sklearn-color-fitted-level-3);\n",
       "}\n",
       "\n",
       ".sk-estimator-doc-link:hover span {\n",
       "  display: block;\n",
       "}\n",
       "\n",
       "/* \"?\"-specific style due to the `<a>` HTML tag */\n",
       "\n",
       "#sk-container-id-2 a.estimator_doc_link {\n",
       "  float: right;\n",
       "  font-size: 1rem;\n",
       "  line-height: 1em;\n",
       "  font-family: monospace;\n",
       "  background-color: var(--sklearn-color-background);\n",
       "  border-radius: 1rem;\n",
       "  height: 1rem;\n",
       "  width: 1rem;\n",
       "  text-decoration: none;\n",
       "  /* unfitted */\n",
       "  color: var(--sklearn-color-unfitted-level-1);\n",
       "  border: var(--sklearn-color-unfitted-level-1) 1pt solid;\n",
       "}\n",
       "\n",
       "#sk-container-id-2 a.estimator_doc_link.fitted {\n",
       "  /* fitted */\n",
       "  border: var(--sklearn-color-fitted-level-1) 1pt solid;\n",
       "  color: var(--sklearn-color-fitted-level-1);\n",
       "}\n",
       "\n",
       "/* On hover */\n",
       "#sk-container-id-2 a.estimator_doc_link:hover {\n",
       "  /* unfitted */\n",
       "  background-color: var(--sklearn-color-unfitted-level-3);\n",
       "  color: var(--sklearn-color-background);\n",
       "  text-decoration: none;\n",
       "}\n",
       "\n",
       "#sk-container-id-2 a.estimator_doc_link.fitted:hover {\n",
       "  /* fitted */\n",
       "  background-color: var(--sklearn-color-fitted-level-3);\n",
       "}\n",
       "</style><div id=\"sk-container-id-2\" class=\"sk-top-container\"><div class=\"sk-text-repr-fallback\"><pre>XGBRegressor(base_score=None, booster=None, callbacks=None,\n",
       "             colsample_bylevel=None, colsample_bynode=None,\n",
       "             colsample_bytree=None, device=None, early_stopping_rounds=None,\n",
       "             enable_categorical=False, eval_metric=None, feature_types=None,\n",
       "             gamma=None, grow_policy=None, importance_type=None,\n",
       "             interaction_constraints=None, learning_rate=0.1, max_bin=None,\n",
       "             max_cat_threshold=None, max_cat_to_onehot=None,\n",
       "             max_delta_step=None, max_depth=5, max_leaves=None,\n",
       "             min_child_weight=None, missing=nan, monotone_constraints=None,\n",
       "             multi_strategy=None, n_estimators=100, n_jobs=None,\n",
       "             num_parallel_tree=None, random_state=42, ...)</pre><b>In a Jupyter environment, please rerun this cell to show the HTML representation or trust the notebook. <br />On GitHub, the HTML representation is unable to render, please try loading this page with nbviewer.org.</b></div><div class=\"sk-container\" hidden><div class=\"sk-item\"><div class=\"sk-estimator fitted sk-toggleable\"><input class=\"sk-toggleable__control sk-hidden--visually\" id=\"sk-estimator-id-2\" type=\"checkbox\" checked><label for=\"sk-estimator-id-2\" class=\"sk-toggleable__label fitted sk-toggleable__label-arrow\"><div><div>XGBRegressor</div></div><div><span class=\"sk-estimator-doc-link fitted\">i<span>Fitted</span></span></div></label><div class=\"sk-toggleable__content fitted\"><pre>XGBRegressor(base_score=None, booster=None, callbacks=None,\n",
       "             colsample_bylevel=None, colsample_bynode=None,\n",
       "             colsample_bytree=None, device=None, early_stopping_rounds=None,\n",
       "             enable_categorical=False, eval_metric=None, feature_types=None,\n",
       "             gamma=None, grow_policy=None, importance_type=None,\n",
       "             interaction_constraints=None, learning_rate=0.1, max_bin=None,\n",
       "             max_cat_threshold=None, max_cat_to_onehot=None,\n",
       "             max_delta_step=None, max_depth=5, max_leaves=None,\n",
       "             min_child_weight=None, missing=nan, monotone_constraints=None,\n",
       "             multi_strategy=None, n_estimators=100, n_jobs=None,\n",
       "             num_parallel_tree=None, random_state=42, ...)</pre></div> </div></div></div></div>"
      ],
      "text/plain": [
       "XGBRegressor(base_score=None, booster=None, callbacks=None,\n",
       "             colsample_bylevel=None, colsample_bynode=None,\n",
       "             colsample_bytree=None, device=None, early_stopping_rounds=None,\n",
       "             enable_categorical=False, eval_metric=None, feature_types=None,\n",
       "             gamma=None, grow_policy=None, importance_type=None,\n",
       "             interaction_constraints=None, learning_rate=0.1, max_bin=None,\n",
       "             max_cat_threshold=None, max_cat_to_onehot=None,\n",
       "             max_delta_step=None, max_depth=5, max_leaves=None,\n",
       "             min_child_weight=None, missing=nan, monotone_constraints=None,\n",
       "             multi_strategy=None, n_estimators=100, n_jobs=None,\n",
       "             num_parallel_tree=None, random_state=42, ...)"
      ]
     },
     "execution_count": 24,
     "metadata": {},
     "output_type": "execute_result"
    }
   ],
   "source": [
    "# Train model\n",
    "# Intailize and train XGBoost\n",
    "model=XGBRegressor(n_estimators=100, learning_rate=0.1, max_depth=5, random_state=42)\n",
    "model.fit(X_train, y_train)\n"
   ]
  },
  {
   "cell_type": "code",
   "execution_count": 25,
   "id": "3942bda7",
   "metadata": {},
   "outputs": [
    {
     "name": "stdout",
     "output_type": "stream",
     "text": [
      "R2 Score: 0.9567\n",
      "MAE: 116.23\n"
     ]
    }
   ],
   "source": [
    "# Predict the Evaluate\n",
    "from sklearn.metrics import r2_score, mean_absolute_error\n",
    "\n",
    "# Predict \n",
    "y_pred=model.predict(X_test)\n",
    "\n",
    "# Evaluate\n",
    "r2= r2_score(y_test,y_pred)\n",
    "mae= mean_absolute_error(y_test, y_pred)\n",
    "print(f'R2 Score: {r2:.4f}')\n",
    "print(f'MAE: {mae:.2f}')"
   ]
  },
  {
   "cell_type": "markdown",
   "id": "61dd2de4",
   "metadata": {},
   "source": [
    "**Visualize Results with Plotly**"
   ]
  },
  {
   "cell_type": "code",
   "execution_count": 27,
   "id": "0063d9fa",
   "metadata": {},
   "outputs": [
    {
     "data": {
      "application/vnd.plotly.v1+json": {
       "config": {
        "plotlyServerURL": "https://plot.ly"
       },
       "data": [
        {
         "bingroup": "x",
         "hovertemplate": "CLV=%{x}<br>count=%{y}<extra></extra>",
         "legendgroup": "",
         "marker": {
          "color": "#636efa",
          "pattern": {
           "shape": ""
          }
         },
         "name": "",
         "nbinsx": 50,
         "orientation": "v",
         "showlegend": false,
         "type": "histogram",
         "x": {
          "bdata": "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",
          "dtype": "f8"
         },
         "xaxis": "x",
         "yaxis": "y"
        }
       ],
       "layout": {
        "barmode": "relative",
        "legend": {
         "tracegroupgap": 0
        },
        "template": {
         "data": {
          "bar": [
           {
            "error_x": {
             "color": "#2a3f5f"
            },
            "error_y": {
             "color": "#2a3f5f"
            },
            "marker": {
             "line": {
              "color": "#E5ECF6",
              "width": 0.5
             },
             "pattern": {
              "fillmode": "overlay",
              "size": 10,
              "solidity": 0.2
             }
            },
            "type": "bar"
           }
          ],
          "barpolar": [
           {
            "marker": {
             "line": {
              "color": "#E5ECF6",
              "width": 0.5
             },
             "pattern": {
              "fillmode": "overlay",
              "size": 10,
              "solidity": 0.2
             }
            },
            "type": "barpolar"
           }
          ],
          "carpet": [
           {
            "aaxis": {
             "endlinecolor": "#2a3f5f",
             "gridcolor": "white",
             "linecolor": "white",
             "minorgridcolor": "white",
             "startlinecolor": "#2a3f5f"
            },
            "baxis": {
             "endlinecolor": "#2a3f5f",
             "gridcolor": "white",
             "linecolor": "white",
             "minorgridcolor": "white",
             "startlinecolor": "#2a3f5f"
            },
            "type": "carpet"
           }
          ],
          "choropleth": [
           {
            "colorbar": {
             "outlinewidth": 0,
             "ticks": ""
            },
            "type": "choropleth"
           }
          ],
          "contour": [
           {
            "colorbar": {
             "outlinewidth": 0,
             "ticks": ""
            },
            "colorscale": [
             [
              0,
              "#0d0887"
             ],
             [
              0.1111111111111111,
              "#46039f"
             ],
             [
              0.2222222222222222,
              "#7201a8"
             ],
             [
              0.3333333333333333,
              "#9c179e"
             ],
             [
              0.4444444444444444,
              "#bd3786"
             ],
             [
              0.5555555555555556,
              "#d8576b"
             ],
             [
              0.6666666666666666,
              "#ed7953"
             ],
             [
              0.7777777777777778,
              "#fb9f3a"
             ],
             [
              0.8888888888888888,
              "#fdca26"
             ],
             [
              1,
              "#f0f921"
             ]
            ],
            "type": "contour"
           }
          ],
          "contourcarpet": [
           {
            "colorbar": {
             "outlinewidth": 0,
             "ticks": ""
            },
            "type": "contourcarpet"
           }
          ],
          "heatmap": [
           {
            "colorbar": {
             "outlinewidth": 0,
             "ticks": ""
            },
            "colorscale": [
             [
              0,
              "#0d0887"
             ],
             [
              0.1111111111111111,
              "#46039f"
             ],
             [
              0.2222222222222222,
              "#7201a8"
             ],
             [
              0.3333333333333333,
              "#9c179e"
             ],
             [
              0.4444444444444444,
              "#bd3786"
             ],
             [
              0.5555555555555556,
              "#d8576b"
             ],
             [
              0.6666666666666666,
              "#ed7953"
             ],
             [
              0.7777777777777778,
              "#fb9f3a"
             ],
             [
              0.8888888888888888,
              "#fdca26"
             ],
             [
              1,
              "#f0f921"
             ]
            ],
            "type": "heatmap"
           }
          ],
          "histogram": [
           {
            "marker": {
             "pattern": {
              "fillmode": "overlay",
              "size": 10,
              "solidity": 0.2
             }
            },
            "type": "histogram"
           }
          ],
          "histogram2d": [
           {
            "colorbar": {
             "outlinewidth": 0,
             "ticks": ""
            },
            "colorscale": [
             [
              0,
              "#0d0887"
             ],
             [
              0.1111111111111111,
              "#46039f"
             ],
             [
              0.2222222222222222,
              "#7201a8"
             ],
             [
              0.3333333333333333,
              "#9c179e"
             ],
             [
              0.4444444444444444,
              "#bd3786"
             ],
             [
              0.5555555555555556,
              "#d8576b"
             ],
             [
              0.6666666666666666,
              "#ed7953"
             ],
             [
              0.7777777777777778,
              "#fb9f3a"
             ],
             [
              0.8888888888888888,
              "#fdca26"
             ],
             [
              1,
              "#f0f921"
             ]
            ],
            "type": "histogram2d"
           }
          ],
          "histogram2dcontour": [
           {
            "colorbar": {
             "outlinewidth": 0,
             "ticks": ""
            },
            "colorscale": [
             [
              0,
              "#0d0887"
             ],
             [
              0.1111111111111111,
              "#46039f"
             ],
             [
              0.2222222222222222,
              "#7201a8"
             ],
             [
              0.3333333333333333,
              "#9c179e"
             ],
             [
              0.4444444444444444,
              "#bd3786"
             ],
             [
              0.5555555555555556,
              "#d8576b"
             ],
             [
              0.6666666666666666,
              "#ed7953"
             ],
             [
              0.7777777777777778,
              "#fb9f3a"
             ],
             [
              0.8888888888888888,
              "#fdca26"
             ],
             [
              1,
              "#f0f921"
             ]
            ],
            "type": "histogram2dcontour"
           }
          ],
          "mesh3d": [
           {
            "colorbar": {
             "outlinewidth": 0,
             "ticks": ""
            },
            "type": "mesh3d"
           }
          ],
          "parcoords": [
           {
            "line": {
             "colorbar": {
              "outlinewidth": 0,
              "ticks": ""
             }
            },
            "type": "parcoords"
           }
          ],
          "pie": [
           {
            "automargin": true,
            "type": "pie"
           }
          ],
          "scatter": [
           {
            "fillpattern": {
             "fillmode": "overlay",
             "size": 10,
             "solidity": 0.2
            },
            "type": "scatter"
           }
          ],
          "scatter3d": [
           {
            "line": {
             "colorbar": {
              "outlinewidth": 0,
              "ticks": ""
             }
            },
            "marker": {
             "colorbar": {
              "outlinewidth": 0,
              "ticks": ""
             }
            },
            "type": "scatter3d"
           }
          ],
          "scattercarpet": [
           {
            "marker": {
             "colorbar": {
              "outlinewidth": 0,
              "ticks": ""
             }
            },
            "type": "scattercarpet"
           }
          ],
          "scattergeo": [
           {
            "marker": {
             "colorbar": {
              "outlinewidth": 0,
              "ticks": ""
             }
            },
            "type": "scattergeo"
           }
          ],
          "scattergl": [
           {
            "marker": {
             "colorbar": {
              "outlinewidth": 0,
              "ticks": ""
             }
            },
            "type": "scattergl"
           }
          ],
          "scattermap": [
           {
            "marker": {
             "colorbar": {
              "outlinewidth": 0,
              "ticks": ""
             }
            },
            "type": "scattermap"
           }
          ],
          "scattermapbox": [
           {
            "marker": {
             "colorbar": {
              "outlinewidth": 0,
              "ticks": ""
             }
            },
            "type": "scattermapbox"
           }
          ],
          "scatterpolar": [
           {
            "marker": {
             "colorbar": {
              "outlinewidth": 0,
              "ticks": ""
             }
            },
            "type": "scatterpolar"
           }
          ],
          "scatterpolargl": [
           {
            "marker": {
             "colorbar": {
              "outlinewidth": 0,
              "ticks": ""
             }
            },
            "type": "scatterpolargl"
           }
          ],
          "scatterternary": [
           {
            "marker": {
             "colorbar": {
              "outlinewidth": 0,
              "ticks": ""
             }
            },
            "type": "scatterternary"
           }
          ],
          "surface": [
           {
            "colorbar": {
             "outlinewidth": 0,
             "ticks": ""
            },
            "colorscale": [
             [
              0,
              "#0d0887"
             ],
             [
              0.1111111111111111,
              "#46039f"
             ],
             [
              0.2222222222222222,
              "#7201a8"
             ],
             [
              0.3333333333333333,
              "#9c179e"
             ],
             [
              0.4444444444444444,
              "#bd3786"
             ],
             [
              0.5555555555555556,
              "#d8576b"
             ],
             [
              0.6666666666666666,
              "#ed7953"
             ],
             [
              0.7777777777777778,
              "#fb9f3a"
             ],
             [
              0.8888888888888888,
              "#fdca26"
             ],
             [
              1,
              "#f0f921"
             ]
            ],
            "type": "surface"
           }
          ],
          "table": [
           {
            "cells": {
             "fill": {
              "color": "#EBF0F8"
             },
             "line": {
              "color": "white"
             }
            },
            "header": {
             "fill": {
              "color": "#C8D4E3"
             },
             "line": {
              "color": "white"
             }
            },
            "type": "table"
           }
          ]
         },
         "layout": {
          "annotationdefaults": {
           "arrowcolor": "#2a3f5f",
           "arrowhead": 0,
           "arrowwidth": 1
          },
          "autotypenumbers": "strict",
          "coloraxis": {
           "colorbar": {
            "outlinewidth": 0,
            "ticks": ""
           }
          },
          "colorscale": {
           "diverging": [
            [
             0,
             "#8e0152"
            ],
            [
             0.1,
             "#c51b7d"
            ],
            [
             0.2,
             "#de77ae"
            ],
            [
             0.3,
             "#f1b6da"
            ],
            [
             0.4,
             "#fde0ef"
            ],
            [
             0.5,
             "#f7f7f7"
            ],
            [
             0.6,
             "#e6f5d0"
            ],
            [
             0.7,
             "#b8e186"
            ],
            [
             0.8,
             "#7fbc41"
            ],
            [
             0.9,
             "#4d9221"
            ],
            [
             1,
             "#276419"
            ]
           ],
           "sequential": [
            [
             0,
             "#0d0887"
            ],
            [
             0.1111111111111111,
             "#46039f"
            ],
            [
             0.2222222222222222,
             "#7201a8"
            ],
            [
             0.3333333333333333,
             "#9c179e"
            ],
            [
             0.4444444444444444,
             "#bd3786"
            ],
            [
             0.5555555555555556,
             "#d8576b"
            ],
            [
             0.6666666666666666,
             "#ed7953"
            ],
            [
             0.7777777777777778,
             "#fb9f3a"
            ],
            [
             0.8888888888888888,
             "#fdca26"
            ],
            [
             1,
             "#f0f921"
            ]
           ],
           "sequentialminus": [
            [
             0,
             "#0d0887"
            ],
            [
             0.1111111111111111,
             "#46039f"
            ],
            [
             0.2222222222222222,
             "#7201a8"
            ],
            [
             0.3333333333333333,
             "#9c179e"
            ],
            [
             0.4444444444444444,
             "#bd3786"
            ],
            [
             0.5555555555555556,
             "#d8576b"
            ],
            [
             0.6666666666666666,
             "#ed7953"
            ],
            [
             0.7777777777777778,
             "#fb9f3a"
            ],
            [
             0.8888888888888888,
             "#fdca26"
            ],
            [
             1,
             "#f0f921"
            ]
           ]
          },
          "colorway": [
           "#636efa",
           "#EF553B",
           "#00cc96",
           "#ab63fa",
           "#FFA15A",
           "#19d3f3",
           "#FF6692",
           "#B6E880",
           "#FF97FF",
           "#FECB52"
          ],
          "font": {
           "color": "#2a3f5f"
          },
          "geo": {
           "bgcolor": "white",
           "lakecolor": "white",
           "landcolor": "#E5ECF6",
           "showlakes": true,
           "showland": true,
           "subunitcolor": "white"
          },
          "hoverlabel": {
           "align": "left"
          },
          "hovermode": "closest",
          "mapbox": {
           "style": "light"
          },
          "paper_bgcolor": "white",
          "plot_bgcolor": "#E5ECF6",
          "polar": {
           "angularaxis": {
            "gridcolor": "white",
            "linecolor": "white",
            "ticks": ""
           },
           "bgcolor": "#E5ECF6",
           "radialaxis": {
            "gridcolor": "white",
            "linecolor": "white",
            "ticks": ""
           }
          },
          "scene": {
           "xaxis": {
            "backgroundcolor": "#E5ECF6",
            "gridcolor": "white",
            "gridwidth": 2,
            "linecolor": "white",
            "showbackground": true,
            "ticks": "",
            "zerolinecolor": "white"
           },
           "yaxis": {
            "backgroundcolor": "#E5ECF6",
            "gridcolor": "white",
            "gridwidth": 2,
            "linecolor": "white",
            "showbackground": true,
            "ticks": "",
            "zerolinecolor": "white"
           },
           "zaxis": {
            "backgroundcolor": "#E5ECF6",
            "gridcolor": "white",
            "gridwidth": 2,
            "linecolor": "white",
            "showbackground": true,
            "ticks": "",
            "zerolinecolor": "white"
           }
          },
          "shapedefaults": {
           "line": {
            "color": "#2a3f5f"
           }
          },
          "ternary": {
           "aaxis": {
            "gridcolor": "white",
            "linecolor": "white",
            "ticks": ""
           },
           "baxis": {
            "gridcolor": "white",
            "linecolor": "white",
            "ticks": ""
           },
           "bgcolor": "#E5ECF6",
           "caxis": {
            "gridcolor": "white",
            "linecolor": "white",
            "ticks": ""
           }
          },
          "title": {
           "x": 0.05
          },
          "xaxis": {
           "automargin": true,
           "gridcolor": "white",
           "linecolor": "white",
           "ticks": "",
           "title": {
            "standoff": 15
           },
           "zerolinecolor": "white",
           "zerolinewidth": 2
          },
          "yaxis": {
           "automargin": true,
           "gridcolor": "white",
           "linecolor": "white",
           "ticks": "",
           "title": {
            "standoff": 15
           },
           "zerolinecolor": "white",
           "zerolinewidth": 2
          }
         }
        },
        "title": {
         "text": "Customer Lifetime Value Distribution"
        },
        "xaxis": {
         "anchor": "y",
         "domain": [
          0,
          1
         ],
         "title": {
          "text": "CLV"
         }
        },
        "yaxis": {
         "anchor": "x",
         "domain": [
          0,
          1
         ],
         "title": {
          "text": "Count"
         }
        }
       }
      }
     },
     "metadata": {},
     "output_type": "display_data"
    }
   ],
   "source": [
    "# CLV Distribution:\n",
    "import plotly.express as px\n",
    "fig=px.histogram(rfm, x='CLV',nbins=50,title='Customer Lifetime Value Distribution')\n",
    "fig.update_layout(xaxis_title='CLV', yaxis_title='Count')\n",
    "fig.show()"
   ]
  },
  {
   "cell_type": "code",
   "execution_count": 28,
   "id": "832d1ce2",
   "metadata": {},
   "outputs": [
    {
     "data": {
      "application/vnd.plotly.v1+json": {
       "config": {
        "plotlyServerURL": "https://plot.ly"
       },
       "data": [
        {
         "marker": {
          "color": "skyblue"
         },
         "type": "bar",
         "x": [
          "Recency",
          "Frequency",
          "Log_Monetary",
          "Log_AvgOrderValue",
          "Tenure"
         ],
         "y": {
          "bdata": "28DWPC0gtTy2DV4/0/toPYpw4Dw=",
          "dtype": "f4"
         }
        }
       ],
       "layout": {
        "template": {
         "data": {
          "bar": [
           {
            "error_x": {
             "color": "#2a3f5f"
            },
            "error_y": {
             "color": "#2a3f5f"
            },
            "marker": {
             "line": {
              "color": "#E5ECF6",
              "width": 0.5
             },
             "pattern": {
              "fillmode": "overlay",
              "size": 10,
              "solidity": 0.2
             }
            },
            "type": "bar"
           }
          ],
          "barpolar": [
           {
            "marker": {
             "line": {
              "color": "#E5ECF6",
              "width": 0.5
             },
             "pattern": {
              "fillmode": "overlay",
              "size": 10,
              "solidity": 0.2
             }
            },
            "type": "barpolar"
           }
          ],
          "carpet": [
           {
            "aaxis": {
             "endlinecolor": "#2a3f5f",
             "gridcolor": "white",
             "linecolor": "white",
             "minorgridcolor": "white",
             "startlinecolor": "#2a3f5f"
            },
            "baxis": {
             "endlinecolor": "#2a3f5f",
             "gridcolor": "white",
             "linecolor": "white",
             "minorgridcolor": "white",
             "startlinecolor": "#2a3f5f"
            },
            "type": "carpet"
           }
          ],
          "choropleth": [
           {
            "colorbar": {
             "outlinewidth": 0,
             "ticks": ""
            },
            "type": "choropleth"
           }
          ],
          "contour": [
           {
            "colorbar": {
             "outlinewidth": 0,
             "ticks": ""
            },
            "colorscale": [
             [
              0,
              "#0d0887"
             ],
             [
              0.1111111111111111,
              "#46039f"
             ],
             [
              0.2222222222222222,
              "#7201a8"
             ],
             [
              0.3333333333333333,
              "#9c179e"
             ],
             [
              0.4444444444444444,
              "#bd3786"
             ],
             [
              0.5555555555555556,
              "#d8576b"
             ],
             [
              0.6666666666666666,
              "#ed7953"
             ],
             [
              0.7777777777777778,
              "#fb9f3a"
             ],
             [
              0.8888888888888888,
              "#fdca26"
             ],
             [
              1,
              "#f0f921"
             ]
            ],
            "type": "contour"
           }
          ],
          "contourcarpet": [
           {
            "colorbar": {
             "outlinewidth": 0,
             "ticks": ""
            },
            "type": "contourcarpet"
           }
          ],
          "heatmap": [
           {
            "colorbar": {
             "outlinewidth": 0,
             "ticks": ""
            },
            "colorscale": [
             [
              0,
              "#0d0887"
             ],
             [
              0.1111111111111111,
              "#46039f"
             ],
             [
              0.2222222222222222,
              "#7201a8"
             ],
             [
              0.3333333333333333,
              "#9c179e"
             ],
             [
              0.4444444444444444,
              "#bd3786"
             ],
             [
              0.5555555555555556,
              "#d8576b"
             ],
             [
              0.6666666666666666,
              "#ed7953"
             ],
             [
              0.7777777777777778,
              "#fb9f3a"
             ],
             [
              0.8888888888888888,
              "#fdca26"
             ],
             [
              1,
              "#f0f921"
             ]
            ],
            "type": "heatmap"
           }
          ],
          "histogram": [
           {
            "marker": {
             "pattern": {
              "fillmode": "overlay",
              "size": 10,
              "solidity": 0.2
             }
            },
            "type": "histogram"
           }
          ],
          "histogram2d": [
           {
            "colorbar": {
             "outlinewidth": 0,
             "ticks": ""
            },
            "colorscale": [
             [
              0,
              "#0d0887"
             ],
             [
              0.1111111111111111,
              "#46039f"
             ],
             [
              0.2222222222222222,
              "#7201a8"
             ],
             [
              0.3333333333333333,
              "#9c179e"
             ],
             [
              0.4444444444444444,
              "#bd3786"
             ],
             [
              0.5555555555555556,
              "#d8576b"
             ],
             [
              0.6666666666666666,
              "#ed7953"
             ],
             [
              0.7777777777777778,
              "#fb9f3a"
             ],
             [
              0.8888888888888888,
              "#fdca26"
             ],
             [
              1,
              "#f0f921"
             ]
            ],
            "type": "histogram2d"
           }
          ],
          "histogram2dcontour": [
           {
            "colorbar": {
             "outlinewidth": 0,
             "ticks": ""
            },
            "colorscale": [
             [
              0,
              "#0d0887"
             ],
             [
              0.1111111111111111,
              "#46039f"
             ],
             [
              0.2222222222222222,
              "#7201a8"
             ],
             [
              0.3333333333333333,
              "#9c179e"
             ],
             [
              0.4444444444444444,
              "#bd3786"
             ],
             [
              0.5555555555555556,
              "#d8576b"
             ],
             [
              0.6666666666666666,
              "#ed7953"
             ],
             [
              0.7777777777777778,
              "#fb9f3a"
             ],
             [
              0.8888888888888888,
              "#fdca26"
             ],
             [
              1,
              "#f0f921"
             ]
            ],
            "type": "histogram2dcontour"
           }
          ],
          "mesh3d": [
           {
            "colorbar": {
             "outlinewidth": 0,
             "ticks": ""
            },
            "type": "mesh3d"
           }
          ],
          "parcoords": [
           {
            "line": {
             "colorbar": {
              "outlinewidth": 0,
              "ticks": ""
             }
            },
            "type": "parcoords"
           }
          ],
          "pie": [
           {
            "automargin": true,
            "type": "pie"
           }
          ],
          "scatter": [
           {
            "fillpattern": {
             "fillmode": "overlay",
             "size": 10,
             "solidity": 0.2
            },
            "type": "scatter"
           }
          ],
          "scatter3d": [
           {
            "line": {
             "colorbar": {
              "outlinewidth": 0,
              "ticks": ""
             }
            },
            "marker": {
             "colorbar": {
              "outlinewidth": 0,
              "ticks": ""
             }
            },
            "type": "scatter3d"
           }
          ],
          "scattercarpet": [
           {
            "marker": {
             "colorbar": {
              "outlinewidth": 0,
              "ticks": ""
             }
            },
            "type": "scattercarpet"
           }
          ],
          "scattergeo": [
           {
            "marker": {
             "colorbar": {
              "outlinewidth": 0,
              "ticks": ""
             }
            },
            "type": "scattergeo"
           }
          ],
          "scattergl": [
           {
            "marker": {
             "colorbar": {
              "outlinewidth": 0,
              "ticks": ""
             }
            },
            "type": "scattergl"
           }
          ],
          "scattermap": [
           {
            "marker": {
             "colorbar": {
              "outlinewidth": 0,
              "ticks": ""
             }
            },
            "type": "scattermap"
           }
          ],
          "scattermapbox": [
           {
            "marker": {
             "colorbar": {
              "outlinewidth": 0,
              "ticks": ""
             }
            },
            "type": "scattermapbox"
           }
          ],
          "scatterpolar": [
           {
            "marker": {
             "colorbar": {
              "outlinewidth": 0,
              "ticks": ""
             }
            },
            "type": "scatterpolar"
           }
          ],
          "scatterpolargl": [
           {
            "marker": {
             "colorbar": {
              "outlinewidth": 0,
              "ticks": ""
             }
            },
            "type": "scatterpolargl"
           }
          ],
          "scatterternary": [
           {
            "marker": {
             "colorbar": {
              "outlinewidth": 0,
              "ticks": ""
             }
            },
            "type": "scatterternary"
           }
          ],
          "surface": [
           {
            "colorbar": {
             "outlinewidth": 0,
             "ticks": ""
            },
            "colorscale": [
             [
              0,
              "#0d0887"
             ],
             [
              0.1111111111111111,
              "#46039f"
             ],
             [
              0.2222222222222222,
              "#7201a8"
             ],
             [
              0.3333333333333333,
              "#9c179e"
             ],
             [
              0.4444444444444444,
              "#bd3786"
             ],
             [
              0.5555555555555556,
              "#d8576b"
             ],
             [
              0.6666666666666666,
              "#ed7953"
             ],
             [
              0.7777777777777778,
              "#fb9f3a"
             ],
             [
              0.8888888888888888,
              "#fdca26"
             ],
             [
              1,
              "#f0f921"
             ]
            ],
            "type": "surface"
           }
          ],
          "table": [
           {
            "cells": {
             "fill": {
              "color": "#EBF0F8"
             },
             "line": {
              "color": "white"
             }
            },
            "header": {
             "fill": {
              "color": "#C8D4E3"
             },
             "line": {
              "color": "white"
             }
            },
            "type": "table"
           }
          ]
         },
         "layout": {
          "annotationdefaults": {
           "arrowcolor": "#2a3f5f",
           "arrowhead": 0,
           "arrowwidth": 1
          },
          "autotypenumbers": "strict",
          "coloraxis": {
           "colorbar": {
            "outlinewidth": 0,
            "ticks": ""
           }
          },
          "colorscale": {
           "diverging": [
            [
             0,
             "#8e0152"
            ],
            [
             0.1,
             "#c51b7d"
            ],
            [
             0.2,
             "#de77ae"
            ],
            [
             0.3,
             "#f1b6da"
            ],
            [
             0.4,
             "#fde0ef"
            ],
            [
             0.5,
             "#f7f7f7"
            ],
            [
             0.6,
             "#e6f5d0"
            ],
            [
             0.7,
             "#b8e186"
            ],
            [
             0.8,
             "#7fbc41"
            ],
            [
             0.9,
             "#4d9221"
            ],
            [
             1,
             "#276419"
            ]
           ],
           "sequential": [
            [
             0,
             "#0d0887"
            ],
            [
             0.1111111111111111,
             "#46039f"
            ],
            [
             0.2222222222222222,
             "#7201a8"
            ],
            [
             0.3333333333333333,
             "#9c179e"
            ],
            [
             0.4444444444444444,
             "#bd3786"
            ],
            [
             0.5555555555555556,
             "#d8576b"
            ],
            [
             0.6666666666666666,
             "#ed7953"
            ],
            [
             0.7777777777777778,
             "#fb9f3a"
            ],
            [
             0.8888888888888888,
             "#fdca26"
            ],
            [
             1,
             "#f0f921"
            ]
           ],
           "sequentialminus": [
            [
             0,
             "#0d0887"
            ],
            [
             0.1111111111111111,
             "#46039f"
            ],
            [
             0.2222222222222222,
             "#7201a8"
            ],
            [
             0.3333333333333333,
             "#9c179e"
            ],
            [
             0.4444444444444444,
             "#bd3786"
            ],
            [
             0.5555555555555556,
             "#d8576b"
            ],
            [
             0.6666666666666666,
             "#ed7953"
            ],
            [
             0.7777777777777778,
             "#fb9f3a"
            ],
            [
             0.8888888888888888,
             "#fdca26"
            ],
            [
             1,
             "#f0f921"
            ]
           ]
          },
          "colorway": [
           "#636efa",
           "#EF553B",
           "#00cc96",
           "#ab63fa",
           "#FFA15A",
           "#19d3f3",
           "#FF6692",
           "#B6E880",
           "#FF97FF",
           "#FECB52"
          ],
          "font": {
           "color": "#2a3f5f"
          },
          "geo": {
           "bgcolor": "white",
           "lakecolor": "white",
           "landcolor": "#E5ECF6",
           "showlakes": true,
           "showland": true,
           "subunitcolor": "white"
          },
          "hoverlabel": {
           "align": "left"
          },
          "hovermode": "closest",
          "mapbox": {
           "style": "light"
          },
          "paper_bgcolor": "white",
          "plot_bgcolor": "#E5ECF6",
          "polar": {
           "angularaxis": {
            "gridcolor": "white",
            "linecolor": "white",
            "ticks": ""
           },
           "bgcolor": "#E5ECF6",
           "radialaxis": {
            "gridcolor": "white",
            "linecolor": "white",
            "ticks": ""
           }
          },
          "scene": {
           "xaxis": {
            "backgroundcolor": "#E5ECF6",
            "gridcolor": "white",
            "gridwidth": 2,
            "linecolor": "white",
            "showbackground": true,
            "ticks": "",
            "zerolinecolor": "white"
           },
           "yaxis": {
            "backgroundcolor": "#E5ECF6",
            "gridcolor": "white",
            "gridwidth": 2,
            "linecolor": "white",
            "showbackground": true,
            "ticks": "",
            "zerolinecolor": "white"
           },
           "zaxis": {
            "backgroundcolor": "#E5ECF6",
            "gridcolor": "white",
            "gridwidth": 2,
            "linecolor": "white",
            "showbackground": true,
            "ticks": "",
            "zerolinecolor": "white"
           }
          },
          "shapedefaults": {
           "line": {
            "color": "#2a3f5f"
           }
          },
          "ternary": {
           "aaxis": {
            "gridcolor": "white",
            "linecolor": "white",
            "ticks": ""
           },
           "baxis": {
            "gridcolor": "white",
            "linecolor": "white",
            "ticks": ""
           },
           "bgcolor": "#E5ECF6",
           "caxis": {
            "gridcolor": "white",
            "linecolor": "white",
            "ticks": ""
           }
          },
          "title": {
           "x": 0.05
          },
          "xaxis": {
           "automargin": true,
           "gridcolor": "white",
           "linecolor": "white",
           "ticks": "",
           "title": {
            "standoff": 15
           },
           "zerolinecolor": "white",
           "zerolinewidth": 2
          },
          "yaxis": {
           "automargin": true,
           "gridcolor": "white",
           "linecolor": "white",
           "ticks": "",
           "title": {
            "standoff": 15
           },
           "zerolinecolor": "white",
           "zerolinewidth": 2
          }
         }
        },
        "title": {
         "text": "Feature Importance for CLV Prediction"
        },
        "xaxis": {
         "title": {
          "text": "Features"
         }
        },
        "yaxis": {
         "title": {
          "text": "Importance"
         }
        }
       }
      }
     },
     "metadata": {},
     "output_type": "display_data"
    }
   ],
   "source": [
    "# Feature importance\n",
    "import plotly.graph_objects as go\n",
    "\n",
    "# Feature importance from XGBoost\n",
    "importance = model.feature_importances_\n",
    "features = X.columns\n",
    "\n",
    "fig = go.Figure(data=[\n",
    "    go.Bar(x=features,y=importance, marker_color='skyblue')\n",
    "])\n",
    "fig.update_layout(\n",
    "    title='Feature Importance for CLV Prediction',\n",
    "    xaxis_title='Features',\n",
    "    yaxis_title='Importance'\n",
    ")\n",
    "fig.show()"
   ]
  },
  {
   "cell_type": "code",
   "execution_count": 29,
   "id": "0e0a6319",
   "metadata": {},
   "outputs": [
    {
     "data": {
      "application/vnd.plotly.v1+json": {
       "config": {
        "plotlyServerURL": "https://plot.ly"
       },
       "data": [
        {
         "hovertemplate": "Days Since Last Purchase=%{x}<br>Total_Revenue=%{y}<br>Frequency=%{marker.color}<extra></extra>",
         "legendgroup": "",
         "marker": {
          "color": {
           "bdata": "AQAHAAQAAQABAAgAAQABAAEAAwABAAIABAADAAEACgACAAQAAgABAAQAAgADAAEAAQACAAIAAQACAAQABQAFAAIAAgAGAAEAAQAEAAIADAACAAEABAABAAEAAQABAAIABQAFAAMAAgADAAMAAwAVAAkAAQABAAQAAwAIAAIAAQABAAMACQAEAAEADwAFAAcAAgACAAEAEgACAAEAAQAFAAEAAQABAAEABAACAAUAAgABAAEABgADAAcAAgACAAIABAAIAAIAAgAeAAcABQASAAEACwAGAAEAAQAEAAoACAAGAAMAAQAKAAEAAgACAAcAAQADAAsAAQAFAAIAAQADAAIAAQACAAIAAQABAAEAAgAFAAUAAQAFAAEAAgALAAgAAwADAAYABAABAAEAAQACAAMAAQAEABEAAwABAAIAAgACAAEAAQABAAIACgACAAUAAQACAAMAAQAHAAEAAQABAAoAIAACAAIAAQABAAUAAwACAAEAAQABAAIADwAJAAIAAQABAAEAAgACAAEAAgADAAoAAgAEAAgABwAKAAUAAQABAAIAAQADAAUAAQABAAUAAQAEAAIAAQABAAkAAwAUAAEAAQACAAIACQAHAAMAAgABAAQAAgAIAAEAAQADAAEAAwAGAAEABAACAAwAAQADAAEAAQABAAIABQAFAAQAAQABAAEACwAJAAEAAQAEAAMABQABAAIABAAGAAwABAAEABYAHwAPAAcABgABAAEAAgABAAYABAACAAQAAwAEAAIAAQABAAgACQABAAoADwADAA0AAQAFAAEAAgACAAEAAgAZAAYABAAFAAQAAQAHAAcABAABAAwAAQABAAEAAgABAAEAAgABAAIABwALANIABQABAAEABgADAAIAAQANAAIAAwACAAIAAQAHAAEAAQABAAUABgAIAAIABQAGAAIAAQADAAEAAQABAAEAAgACAAEAAQADAAEAAwABAAMAAQABAAIAAgABAAEABAABAAIABQABAAcAAwAGAAIABgABAAIAAQABAAQAAQACAA4ABAAZAAIACAACAAQAAQACAAEAAQAGAAMAAQAGAAIAAQABAAIAAQAHAAYAAgACAAEAAgACAAwAAgADAAEAAgAEAAEAAwACAAIAAQADAAEAAgACABwAAQACAAUAAgAFAAgABQAFAAIABAABAAYAAQAlAAEAAQAEAAIABQABAAIADwADAAcABAAEAAEACAACAAMAAgABAAYABwAIAAMABgAEAAEACwABAAgAAgAIAAEAAQACAAEABABWAAEAAQABAAkAAgABAAEAAgACAAEADwADAAIABAADAAEABAADAAMADQABAAMAEgACAAEAAQABAAgADQAKAAUAAwABABwACQACAAUABgACAAMAAgACAAEAAgACAAMAAwACAAEAAQABAAIACgAEAAIAEQABAAMAAwABAAEAAQABAAQAAQACAAEAAgAYAAEAAQABAAQAGgAFAAEACwAJAAIAAgBhAA4AAQAFAAgADAABAAoAHAABAAEAGAABAAYAAQAEAAEAAgAHABgABAABAAgABQABAAEAAgADAAgAAQABAAMAAQACAAQAAQAFAAgABgAHAAMABQABAAEABAABAAQADAAEAAEAAQAEAAQABAAEAAEAAQAEAAIAAQAEAAQAAgABAAMAAgADAAEAAQALAAEACQAKAAEAAwABAAEAAgACAAEAAQAEAAYAJgAEAAQAAgAGAAgAAQADAAMABQABAAMAAQAEAAIAAgACAAcAAQABAAEAAQAOAAcAAgABAAIABAABAAQAAwABAAEAAQAGAAQAAgADAAIAAgABAAMAAQABAAIAAQAjAAUADAATAAsADwABAAEAAgABAAIABAABAAEAAwADAAIAAQAEAAEAAgACAAEAAQAEAAEAAQABAAQAAQABAAoAAQADAAUAAwACAAUAAwAEAAYAAwAaAAQAAgABAAUACgABAAgAAQACAAMAAQADAAEAAQABAAcAAQABAAMAAQABAAEAAQACAAEAAQABAAEAAQABAAEAAQAEAAIAAQACAAEAAgABAAEAAQADAAEAAwADAAYAAQAHAAEAAgADAAEAAQAIAAEAAgAFAAEAAgABAAIAAwA+AAUAAQADAAIAAgASAAEAAgACAAEAAwAKAAMAAQAEAAIAAgACAAcAAQAHAAEAAQADAAYAAQAGAAUAAgACAAIABgAOAAIAAwABAAEAAQACACUAAgAEAAIAAQAEAAIABgACAAUAAQABAAEAAQADAAMADQAEAAoAAwACAAEABQACAAIABQADAAEAAwABAAEABAACAAQAAQAHAAQAAQABAAEABAADAAMAAQABAAYAAwABAAUABQACAAcAAgACAAEAAwAZAAcABwADAAIAAwACAAcAAQAMAAQAAgAEAAEAAQADAAIAAwACAAIAAQACAAEADAABAAIABQASAAQAAgABAAEAAQABAAkAAgAGAAMABAAFAAEAAgABABUAAQACAAEAAQADAAEABwADAAQAAQADAAEAAQAFAAEABQALAAcACwAFAAUAAQAFAAMAAQABAAEAAwAEAAEABAACAAYAAgADAAYAAgACAAIABQACAAMAAQADAAEAFQACAAEAAgACAAIAAQAEAAQAAQABAAcAAQABAAEAAwAyAA8AAQABAAoAAQAJAAMAAQACAAEADQABAAIAAQAFAAEABgACAAUABAABAAMAAQAIAAIAAgAGAAIAAgABAAQAAgABAAEAAQADAAwABwACAAEAAQAFAAUAAQAGAAEAAgAJAA4ABwACAAIAAgABAAEAAwAlAAoABAADAAEAIQABAAIAAQAGAAsAAQACAAEAAgACADkAAgABAAEAAwABAAcAAgABAAEABQABAAMAAwADAAQAAgAEAAIAAgADAAIAAgACAAUAAQADAAEABgABAAEABAACAAQAAQAJAAEAAQADAAMAAgABAAMAAQAZAAMAAQABAAUACAABAAQAAQADAAIABAAIAA0AAwABAAUAAQABAAEADQAUAAUABQAFAAIAAQABAAIAAQAKAAQAAQADAAQAAQABAAIAAwAFAAIABAAJAAIAAgACAAIAAQABAAYABAABAAEABAACAAIAAgABAAIAAQABAAEAAQADAAQABQADAAEAAQAGAAQAAwACAAcAAgACAAUAAwACAAIABAABABIACAACAAEAAQAGAAEAAgABAAEABAAMAAUADwABAAYAAgABAAYAAQAJAAYABQAMAAEAAwACAAcABQADAAIAAQADAAEAAQAEAAMAAgADAAEAAgACAAEAAgAIABMACwADAAUAAQACAAMAAQAMAAEABAAEAAEABQABAAQAAgAXAAEAAgABAAEAFwARAAEAEwAMAAUAAQACAAEACAABAAMAAQAFAAYAAQABAAIAAQAJABIAAQANAAEAAQAOAAEAEQABAAsAAQAGAAUAAgABAAcAAgABAAwABAAHAAQAAgAFAAEABAABAAMAAwADAAIABQABAAsAAwAPAAIAAQACAAQAAQABAAQABQACAAEAAQACAAIAAgABADcAAgABAAsAAwACAAQAAgABAAQAAQAEAAEAAwAEAAQABwACABkAAQABAAYADwANAAIAFQACAAEABAABAAcAAQACAAEAAQAGAAYACQABAAUABgAEABEAAQABAAIACQABAAMABAAFAAoAAwADAAUABAAEAAUAAgABAAEACwACAAEAAgAKAAIAAwABAAEAAwAFAAIABQAJAAEAAgAIAAIAAgADAAEAAQACAAQAAwADAAEADwACAAQAAwADAAEABgAFAAsACQAEAAEABAAsAAkAAQABAAEAAwACAAYACQABAAYAAQAGAAEAAgAFAAIAAQABAAcAAgADAAEACAACAAQAAgABAAEACAAEAAgAAQACAAEAAQABAAEABAABAAIAAQACAAEAAwAEAAEACAAQAAEAAQABAAEAAgACAAEAAQADAAMAAQADAAgAAgAJAAEACQACABMAAQANAAQABgABAAYABwAGAAkAAQACAAEABwANAAIAAwAGAAEAAgAGAAEAAQAKAAIABQABAAYABgABAAEAAQABAAUABAACAAQABAAFAAIABAADAAIAAgABAAkAAQABAAMAAwALAAMAAwAHAAQAAgAIAAIAAQADAAEABAACAAEAAgAGAAEAAQABAAYAAQABAAIABQABAAIAAgABAAUAAwADAAIACwAGAAQACAAFAAYAAgAFAAIAAwADAAYAAgABAAIABAABAAkACQA3AAEAAwAGAAQABwASAAMAAQABAAIAAgADAAgAAQAQAAIABQAIAAIAAQACAAIAAQAFAAQAAgABABYAAwASAAQAAQACAAEAAgAHAAkAAQAEAAEAAQABAAUABAABAAEACQABAAQAAwADAAIABgACAAEAAQABAAEAXQAOAAQABAADAAMAAQACAAUAAQAFAAIAAgAEAAIAAgADAAEAAQACAAEABgAGAAEAAQACAAIAAgBKAAEABAACAAEABwAEAAIABAACAAkAAgABAAQAAgAFAAEAGQADAAIAAgAFAAEABgAQAAMAAgAFAAEAFQABAAIABQAEAAEABwACAAUAAQADAAkAEQABAAkAAQADAA0ABAALAAMACwABAAQAAgAFAAMAAQAGAAEAAQABAAgAAwAIAAwAIAADAAcABwADAAYABwAFAAEABQABAAEAAgALAAEAAQAEAAMAAQACAAEAAQADAAYAAgAIAAIAAQADAAsAAgADAAIAAQACAAIAAgABAAQAAQABAAcAAQARAAMAAQAMAAEAAwABAAQAAQAIAAsAAgACAAEAAgADAAIABAABAAMABAAMAAMABAABAAYAAwAEAAEABgAEAAQAAQAZAAEAAgAGAAIABwACAAMAAgAEAAEAAQACAAEAAgAMAAMACAACAAEABAABAAIACQADAAEAAgAGAAEAAQABAAEAAQABAAIAAgABABQAAgAEAAYACQABAAUAAgACAAcAAQAEAMkAAgAEAAIABAACAAIAAgABAAEAAQADAAUAAQACAAEACAADAAwAAQACAAYAAQABAAsAAQABAAEAAwAEAAIACQABAAUAAQACAAEAAQABAAQAAwABAAMAAQABAAcABQABAAIAAgACAAEAAgADAAIAAQAEAAEAHAABAAEAAwABAAIAAgABAAEAAwABAAkABAALAAoAAQADAAQABAACAAQAAwAKAAgAAQADAAYALwABAAEAAQARAAIADwABAAQAAQADAAMAAQADAAIAAgALAAkABAAwAAQAAQAEAAEAAwACAAEAAQACAAMAAQABAAEAIAAEAAUAAQABAAIABgABAAEAAgAGAAQAAQABAAMAAQADAAIAAgACAAcABQAGAAQAAQAEAAMAAwAKAAEABAAFAAEAAQABAAIAAwACAAIADwABAAQACwABAAUAAwAIAAEABAACAAcAAQABABEABAACAAEAAQABAAoADQABAAEAAwADAAEAHgABAAIAAwABAAEAAQABAAUAAQABAAEABQABAAMAAgACAAEAAgAQACkAAwABAA8AAQADAAIABAAFAAYAAQACAAQABQABAAIAAQACAAgAAwABAAsAAQAGAAEAAQACAAIAAQABAAUABAACAAIAAQAMAAEABAADAAIABQAIAAEAAgADAAIAAQANAAsAAgAFAAEAAQABAAEAAgAHAAEAAQABAAEAAgABAAUAAQAHAA8AAgACAAEAAQABAAEAAQAJAAEAAgAFAAMAEgAPAAEABgADAAwABwABAAwAAQAIAAMAAQABAFsABAABAAEAAgABAAEAAQABAAMAAQABAAEAAQADAAIABAABAAMAAQACAAEAAQABAAMAAQABAAEAAQACAAEABwACAAIACgAWAAEAAQABAAIABwACAAQAAQAHAAEADAABAAMABwAFAAIABgACAAEAAQABAAEABAACAAQAAQABAAEAAgADAAUAAgABAAIABAABAAgABAABAAMAAQAEAAEAAQAEAAIAAQACAAUAAwABAAIAAQACAAUAAQADAAEAAQADAAEABwACAAEAAQABAAMAAQADAAcAAQADAAEAAQABAAMAAQABABIAAQADAAIAAgABAAEABwABAAIAAQAMAAQABAADAAEAAwAGAAIABQACAAIAGwAEAAwAAQABAAUAAwABAAYAAQAFAAIAEwALAAMAAQAIAAEACAACAAEAAQADAAIACAABAAsABAACAAQAAwAEAAEAAQABAAEAAQAJAAIADgADAAQAAQABAAEAAQAQAAEAAQAEAAEABAACAAEAAwAFAAwABAAHAAIABAABAAMAAQACAA0AAwAEAAEABAADAAEAAQAFAAUAAQABAAIADgAJAAEAAQAFAAkAAQAEAAEAAQANAAIAFwAEAAEAAwAEAAkAAQAEAAQAAgAJAAIACAABAAIAAQABAA8ABAADAAQAAQADAAIAAgADAAEAAgACAAEABAABAAUAAQAJAAIAAQABAAIAAQABAAQAAQAHAAQABQADAAMAAQABAAQAAwAFAAEACQACAAIAAQABAA4AAgAIAAEAAgAEAAEABAABAAQABAAHAAEABQACAAIABAABAA0AAQABAAUAAQACAAEABwABAAMAAgABAAIACAAQAAEAAQAEAAEABAABAAMAAQADAAgABwABAAMABgAEAAIAAQADAAIAAgAGAAEAAwAaAAEAAQABAAEABAADAAMAAwABAAUAAwADAAEAAQACAAMAAQAIAAQAAwACAAMAAQABAA0AEQADAAMABAAFAAQABgAFAAIABAAFAAQAAQACAAIAAQABAAMADgACAAEAAwABAAQABAABAAEAEwADAAIABAABAAEACAACAAIAAgABAAwABQAbAAEABQAIAAgABAACAAYAAwABAA8AAgABAAIABwACAAEABQAEAAIAAwABAAEAAgABAAIAAQACAAUAAQABAAMABwABAAcAAwABAAgAAgAIAAEAAgACAAQAAQABAAEAAQABAAgAAwACAAEABQAPAAEAAQABAAEAAQACAAIABAACAAQACAAOAAEAAQACAAQAAgADAAEADAABAAcAAQACAAIAAQADAAgABAAKAAIAAQAHAAEAAgABAAcAAQAGAAUAAwAFAAQAAQAEAAMABAADABAAAwAvAAMAAwAIAAEAAgAJAAMAAQADAAEAAQABAAYAPwABAAIAFAADAAIAAwADAAMAAwAFAAQABAACAAMAAQABAAIAAQABAAEABwAGAAQAAQABAAUAAgABAAEAAQAKAAEAAwACAAUAAgABAAUABQACAAMAAQAEAAEAAQAHAAMAAQADAAYAAQABAAEABwABAAIAAwAEAAEAAQAIAAEAAQACAAQAAgAEAAEAAQABAAQAAQAFAAYAIQACAAEAAwADAAIAAQABAAYAAQALAAMAAQABAAIABQABAAUACQADAAEAAgATAAEAAgADABsABAAGAAEABQAGAAMABAABAAEAAQAIAAEABAABAAYAAgAMAA8ABAACAAEADQABAAEAAgAEAAEABAABAAQABAABAAIABQASAAEAAgABAAMAAQABAAIABwADAAEABAAFAAMAAQACAAIABAADAAUAAQACAAIADQAHAAIAAgADAAEAAQAFAAIAAgAIAAEAAQAFAAEABAAJAAcAAgABAAUAAQABAAEAAQABAAMAAQABAAUAAgABAAEACgAEAAEAAwABAAMAAQAGAAQAAgACAAIAAQAIAAMAAQABAAIABQACAAEAAwADAA4ABgADAAcAFgABAAEAAQABAAQABAACAAEAAQACAAcAAQAEAAEAAgAXAAIAAwADAAQACQAGAAQABQABAAIACQABAAIAAgADAAQAAgACAAIAAQADAAQAAQACAAIAAwACAAEABAABAA0ABQAFAAIAAgABAAwAAgABAAEAAgABAAoABQACAAEAAQACAAEAAwADAAYAMwABAAEAAQAKAAIAAQABAAMAAQABAAcABQAFAAIAAwAEAAEAAgABAAEAAgABAAEAAgAHAAUAAQASAAMAAQADAAQAAwAHAAEABAAEAAEAAwAHAAQABwADAAIAAQABAAEAAgABAAMAAQAEAAEAAwADAAYAAgACAAYABAABAAEAAgABAAEAAwAEAAUAAQABAAIAAgADABUAGgABAAEAAQABAAcAAwADAAEAAQAEAAEAAQACAAoABQADAAIADAADAAIABwACABQAAgACAAEAAQAFAAIAAQAKAAMAAwACAAEAAQABAAEAAgABAAEAAwABABAAAwABAAEAAgABAAEABgABAAEAAgAOAAcAAQABAAQAAQABAAIAAQAFAAEAAgAEAAEAAgABABEAAQAFAAIABgACAAQACgADAAEAAgABAAIAAgABAAEABwACAAQABgAPAAQAAQABAAQAAQABAAIABgADAAsAAwAUAAIABAAMAAEAAQAGAAUAHAACAAcABAACAAIAAgACAAQAAQACAA0ADQAUAAMAAQAFAAoABQALAA8AAwABAAIABgABAAcAAQABAA0AAgAHAAUAAQAEABUAAwABAAMABQABAAEAAQABAAcABwARABIAAgAFAAUAAQABAAEAAQADAAEAAQABAAMAAQADAAEADQABAAIACwADAAEABQAFAAEABAALAAEAAgACABYAAgABAA0AAQACAAEABgAHAAIAAQAKAAEAAQABAAQAAQADAAIABAADAAIABQABAAIAAQAKABUABAAJAAsAAQABAAIAAgABAAIAAQABAAMABAABAAIAAgALAAIAIgAGAAMAEAABAAEAAQABAAEAAwACAAIAAQABAAIAAgACAAMABAAGAAMABgAFAAYAAQAHAAEAAwACAAIAAwABAAMABQAFAAEAAQACAAMABgADAAEAAQAQAAcABAAFAAEACAALAAEAAQAGAAIAAQAGAAsAAQATAAMAAQADABEABwADABUAAQACAAIAAQAEAAMACQADABMAAQADAAYAAwADAAIAAQAJAAQAAQACAAEAAwABAAEAAQAHAAEAAgADAAEAAQABAAYAAgABAAcAAgAKAAIABwABAAYAAQAFAAYAAwAEAAIACwADAAIABAAGAAEAAQADAAMAFAACAAQAAQADAAMAAgAGAAIAAQACAAMAAwACAAEAAQABAAMABQAEAAEAAwABAAMAAwAJAAYAAQABAAEABQADAAUAAQALAAQABwADABUACQABAAkABAAEAAMAAgABAAIAAgACAAMAAgAFAAYABAAHAAkABAABAAMABAAIAAIABAABAAIABgAGAAEAAQAIAAMAAQABAAIAAQABAAEAAQABAAUAAQAFAAcAAgAHAAEADAABAAEAAgADAAQAAQADAAEAAQACAAIAAwADAAYACgACAAcAAQACAAIAAQABAAgAAQAEAAEAAwAEAAIABgACAAEABwACAAIABwAHAAIAAQADAAEABgAEAAEAAQAIAAEABwAGAAEACgABAA4AAgABAAIAAQAGAAgAAgAIAAoAAgABAAEAAgAGAAIAEQABAAIAGgABAAEAAQABAAIAAQACAAEAAgACAAIAAgAFAAEAAgADAAIABAAEAAEAAgABAAEAAwAGAAEABwAHAAMAAgABAAkAAwABAAIABAABAAUAAQATAAEAAgADAAEACAAmAAMAAwACAAcABAABAAIAAgABAAEAAgAEAAgAAgALAAMAAQABAAQADwABAAUAAQAEAAMAAgABAAEAAgACAAEAAwADAAIACwAIAAEACAAEAAMACAAEAAIAAwACABQAAQAdAAEAAQACAAEABgACAAQAIgACAAIAAQAIAAIAAwAFAA0AAQAPAAMAAwABAAIABQADAAcAAgABAAcAAgAMAAMABgACAAIABgABABwAAwACAAEAAgABAAcAAgABAAMABgABAAMAAgACAAcALgAHAAIABAABAAEABQABAAIABgADAAIABQABAAIAAgAFAAUAAwABAAEABAADAAEAAgAHAAoAAQACAAEAAQABAAMAAgAEAAIACQACAAEAAgABAAgAAQAfAAoAAQABAAQABQABAAYAAQADAAUABAABAAEABAAEAAgACgABAAEAAQABAAIAAQACAAEAAwABAAIAAwABAAQAAQAFAAIAAQADAAUAAQAHAAMAAgAIAAEABAAEAAMAAQATAAEAAwADABkAAQACAAQAAwAEAAMABwAFAAIAAgAHAAEAAQABAAYAAQACAAIABQAPAAYADgABAAMAAwADAAEAAQADAAEAAgAEAAEACAACAAMABAAJAAEAAgABAAEAAgABAAsAAwABAAQAAQABAAoADAAEAAEABwAFAAIADAABAAcAAgACAAUAAgAHAAEABAACAAYAAgAfAAYAHgABAAIAAQAGAAEABwAHAA8AAgAEAAEAAQACAAgAAQABAAQAAQAEAAMAAgAJABEAAgACAAEAAgABAAEAAQALAAEADwAEAAQABgADAAsAAQADAA0ABAABAAIAAwATAAMAAgAEAAcAAgAGAAEAAQACAAkAAQAFAB4ACAADAAIAAQABAAIAAwABAAMACgAFAAIAAgAEAAEAAwADAAIAAgABAAIABAACAAEADgABAAEAAgAEAAMACgAJAAMAAQABAAwAJwAEAAUABAADAAcAAQAFAAQAAQADAAEAAQADAAEACAAFAAEAfAABAAEAAQAJAAQAIgACAAIAAQAEABcADAABAAEACAABAAYAAwAUAAEABgAFAAwAAQAFAAYAAQABAAEAAQABAAQABAABAAMAAQAIAAIAAgABAAMAAQAIAAEAAQADAAIAAQACAAEAAQAEAAEAAQABAAUAAgABAAMAAQARAAQAAQAHAAEAAgACAAQABQACAAMAAgACAAEABwABAAoAAQABAAIAAQABAC0AAwADAAwABAABAAEAAQABACcAAQACAA4ABQABAAEAAgABAAEAAQADAA0AAQABAAEABAADAAEAAQABAAEABwADAAIABAABAAgAAgACAAEAAgABAAkAAQABAAEAAgABAAEABQADAAIAAQABAAIAAQACAAEAAQACAAMAAwAGAAIAFQABAAMACgABAAIAAQABAAoAAQABAAMACgADAAIADgABAAEAAQAFAAIAAQAMAAEACgALAAIABAACAAMAAQABAAIAAQACAAEACwAEAAcAAgADAAYAAQACADwAAQABAAEAAQAaAAEAAgABAAEACAABABoAAQABAAIABgACAAQAAQADAAEAAwABAAUAAwABAAYAAgACAAwABAACAAIAAwADAAIAAgADAAIAAgABAAIABQABAAEAAwAGAAEAAwAFABQABAABAAEABgAEAAYABgABAAIAAQABAAMAAgACAAEAAQABAAEAAgARAAEAAwABAAMAAgABAAYABQABAAEAAQABAAIAAgAKAAEABQABAA4AAQAMAAsAAQACABQABwAFAAQAAQADAAYABQAFAAEAEQAEAAcAAgACAAEAAQABAAIAAQAIAAMABgACAAEAAwACAAEAAQACAAYAAwABAAEAAQABAAEAAQACABAAAwA=",
           "dtype": "i2"
          },
          "coloraxis": "coloraxis",
          "symbol": "circle"
         },
         "mode": "markers",
         "name": "",
         "showlegend": false,
         "type": "scattergl",
         "x": {
          "bdata": "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",
          "dtype": "i2"
         },
         "xaxis": "x",
         "y": {
          "bdata": "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",
          "dtype": "f8"
         },
         "yaxis": "y"
        }
       ],
       "layout": {
        "coloraxis": {
         "colorbar": {
          "title": {
           "text": "Frequency"
          }
         },
         "colorscale": [
          [
           0,
           "#0d0887"
          ],
          [
           0.1111111111111111,
           "#46039f"
          ],
          [
           0.2222222222222222,
           "#7201a8"
          ],
          [
           0.3333333333333333,
           "#9c179e"
          ],
          [
           0.4444444444444444,
           "#bd3786"
          ],
          [
           0.5555555555555556,
           "#d8576b"
          ],
          [
           0.6666666666666666,
           "#ed7953"
          ],
          [
           0.7777777777777778,
           "#fb9f3a"
          ],
          [
           0.8888888888888888,
           "#fdca26"
          ],
          [
           1,
           "#f0f921"
          ]
         ]
        },
        "legend": {
         "tracegroupgap": 0
        },
        "template": {
         "data": {
          "bar": [
           {
            "error_x": {
             "color": "#2a3f5f"
            },
            "error_y": {
             "color": "#2a3f5f"
            },
            "marker": {
             "line": {
              "color": "#E5ECF6",
              "width": 0.5
             },
             "pattern": {
              "fillmode": "overlay",
              "size": 10,
              "solidity": 0.2
             }
            },
            "type": "bar"
           }
          ],
          "barpolar": [
           {
            "marker": {
             "line": {
              "color": "#E5ECF6",
              "width": 0.5
             },
             "pattern": {
              "fillmode": "overlay",
              "size": 10,
              "solidity": 0.2
             }
            },
            "type": "barpolar"
           }
          ],
          "carpet": [
           {
            "aaxis": {
             "endlinecolor": "#2a3f5f",
             "gridcolor": "white",
             "linecolor": "white",
             "minorgridcolor": "white",
             "startlinecolor": "#2a3f5f"
            },
            "baxis": {
             "endlinecolor": "#2a3f5f",
             "gridcolor": "white",
             "linecolor": "white",
             "minorgridcolor": "white",
             "startlinecolor": "#2a3f5f"
            },
            "type": "carpet"
           }
          ],
          "choropleth": [
           {
            "colorbar": {
             "outlinewidth": 0,
             "ticks": ""
            },
            "type": "choropleth"
           }
          ],
          "contour": [
           {
            "colorbar": {
             "outlinewidth": 0,
             "ticks": ""
            },
            "colorscale": [
             [
              0,
              "#0d0887"
             ],
             [
              0.1111111111111111,
              "#46039f"
             ],
             [
              0.2222222222222222,
              "#7201a8"
             ],
             [
              0.3333333333333333,
              "#9c179e"
             ],
             [
              0.4444444444444444,
              "#bd3786"
             ],
             [
              0.5555555555555556,
              "#d8576b"
             ],
             [
              0.6666666666666666,
              "#ed7953"
             ],
             [
              0.7777777777777778,
              "#fb9f3a"
             ],
             [
              0.8888888888888888,
              "#fdca26"
             ],
             [
              1,
              "#f0f921"
             ]
            ],
            "type": "contour"
           }
          ],
          "contourcarpet": [
           {
            "colorbar": {
             "outlinewidth": 0,
             "ticks": ""
            },
            "type": "contourcarpet"
           }
          ],
          "heatmap": [
           {
            "colorbar": {
             "outlinewidth": 0,
             "ticks": ""
            },
            "colorscale": [
             [
              0,
              "#0d0887"
             ],
             [
              0.1111111111111111,
              "#46039f"
             ],
             [
              0.2222222222222222,
              "#7201a8"
             ],
             [
              0.3333333333333333,
              "#9c179e"
             ],
             [
              0.4444444444444444,
              "#bd3786"
             ],
             [
              0.5555555555555556,
              "#d8576b"
             ],
             [
              0.6666666666666666,
              "#ed7953"
             ],
             [
              0.7777777777777778,
              "#fb9f3a"
             ],
             [
              0.8888888888888888,
              "#fdca26"
             ],
             [
              1,
              "#f0f921"
             ]
            ],
            "type": "heatmap"
           }
          ],
          "histogram": [
           {
            "marker": {
             "pattern": {
              "fillmode": "overlay",
              "size": 10,
              "solidity": 0.2
             }
            },
            "type": "histogram"
           }
          ],
          "histogram2d": [
           {
            "colorbar": {
             "outlinewidth": 0,
             "ticks": ""
            },
            "colorscale": [
             [
              0,
              "#0d0887"
             ],
             [
              0.1111111111111111,
              "#46039f"
             ],
             [
              0.2222222222222222,
              "#7201a8"
             ],
             [
              0.3333333333333333,
              "#9c179e"
             ],
             [
              0.4444444444444444,
              "#bd3786"
             ],
             [
              0.5555555555555556,
              "#d8576b"
             ],
             [
              0.6666666666666666,
              "#ed7953"
             ],
             [
              0.7777777777777778,
              "#fb9f3a"
             ],
             [
              0.8888888888888888,
              "#fdca26"
             ],
             [
              1,
              "#f0f921"
             ]
            ],
            "type": "histogram2d"
           }
          ],
          "histogram2dcontour": [
           {
            "colorbar": {
             "outlinewidth": 0,
             "ticks": ""
            },
            "colorscale": [
             [
              0,
              "#0d0887"
             ],
             [
              0.1111111111111111,
              "#46039f"
             ],
             [
              0.2222222222222222,
              "#7201a8"
             ],
             [
              0.3333333333333333,
              "#9c179e"
             ],
             [
              0.4444444444444444,
              "#bd3786"
             ],
             [
              0.5555555555555556,
              "#d8576b"
             ],
             [
              0.6666666666666666,
              "#ed7953"
             ],
             [
              0.7777777777777778,
              "#fb9f3a"
             ],
             [
              0.8888888888888888,
              "#fdca26"
             ],
             [
              1,
              "#f0f921"
             ]
            ],
            "type": "histogram2dcontour"
           }
          ],
          "mesh3d": [
           {
            "colorbar": {
             "outlinewidth": 0,
             "ticks": ""
            },
            "type": "mesh3d"
           }
          ],
          "parcoords": [
           {
            "line": {
             "colorbar": {
              "outlinewidth": 0,
              "ticks": ""
             }
            },
            "type": "parcoords"
           }
          ],
          "pie": [
           {
            "automargin": true,
            "type": "pie"
           }
          ],
          "scatter": [
           {
            "fillpattern": {
             "fillmode": "overlay",
             "size": 10,
             "solidity": 0.2
            },
            "type": "scatter"
           }
          ],
          "scatter3d": [
           {
            "line": {
             "colorbar": {
              "outlinewidth": 0,
              "ticks": ""
             }
            },
            "marker": {
             "colorbar": {
              "outlinewidth": 0,
              "ticks": ""
             }
            },
            "type": "scatter3d"
           }
          ],
          "scattercarpet": [
           {
            "marker": {
             "colorbar": {
              "outlinewidth": 0,
              "ticks": ""
             }
            },
            "type": "scattercarpet"
           }
          ],
          "scattergeo": [
           {
            "marker": {
             "colorbar": {
              "outlinewidth": 0,
              "ticks": ""
             }
            },
            "type": "scattergeo"
           }
          ],
          "scattergl": [
           {
            "marker": {
             "colorbar": {
              "outlinewidth": 0,
              "ticks": ""
             }
            },
            "type": "scattergl"
           }
          ],
          "scattermap": [
           {
            "marker": {
             "colorbar": {
              "outlinewidth": 0,
              "ticks": ""
             }
            },
            "type": "scattermap"
           }
          ],
          "scattermapbox": [
           {
            "marker": {
             "colorbar": {
              "outlinewidth": 0,
              "ticks": ""
             }
            },
            "type": "scattermapbox"
           }
          ],
          "scatterpolar": [
           {
            "marker": {
             "colorbar": {
              "outlinewidth": 0,
              "ticks": ""
             }
            },
            "type": "scatterpolar"
           }
          ],
          "scatterpolargl": [
           {
            "marker": {
             "colorbar": {
              "outlinewidth": 0,
              "ticks": ""
             }
            },
            "type": "scatterpolargl"
           }
          ],
          "scatterternary": [
           {
            "marker": {
             "colorbar": {
              "outlinewidth": 0,
              "ticks": ""
             }
            },
            "type": "scatterternary"
           }
          ],
          "surface": [
           {
            "colorbar": {
             "outlinewidth": 0,
             "ticks": ""
            },
            "colorscale": [
             [
              0,
              "#0d0887"
             ],
             [
              0.1111111111111111,
              "#46039f"
             ],
             [
              0.2222222222222222,
              "#7201a8"
             ],
             [
              0.3333333333333333,
              "#9c179e"
             ],
             [
              0.4444444444444444,
              "#bd3786"
             ],
             [
              0.5555555555555556,
              "#d8576b"
             ],
             [
              0.6666666666666666,
              "#ed7953"
             ],
             [
              0.7777777777777778,
              "#fb9f3a"
             ],
             [
              0.8888888888888888,
              "#fdca26"
             ],
             [
              1,
              "#f0f921"
             ]
            ],
            "type": "surface"
           }
          ],
          "table": [
           {
            "cells": {
             "fill": {
              "color": "#EBF0F8"
             },
             "line": {
              "color": "white"
             }
            },
            "header": {
             "fill": {
              "color": "#C8D4E3"
             },
             "line": {
              "color": "white"
             }
            },
            "type": "table"
           }
          ]
         },
         "layout": {
          "annotationdefaults": {
           "arrowcolor": "#2a3f5f",
           "arrowhead": 0,
           "arrowwidth": 1
          },
          "autotypenumbers": "strict",
          "coloraxis": {
           "colorbar": {
            "outlinewidth": 0,
            "ticks": ""
           }
          },
          "colorscale": {
           "diverging": [
            [
             0,
             "#8e0152"
            ],
            [
             0.1,
             "#c51b7d"
            ],
            [
             0.2,
             "#de77ae"
            ],
            [
             0.3,
             "#f1b6da"
            ],
            [
             0.4,
             "#fde0ef"
            ],
            [
             0.5,
             "#f7f7f7"
            ],
            [
             0.6,
             "#e6f5d0"
            ],
            [
             0.7,
             "#b8e186"
            ],
            [
             0.8,
             "#7fbc41"
            ],
            [
             0.9,
             "#4d9221"
            ],
            [
             1,
             "#276419"
            ]
           ],
           "sequential": [
            [
             0,
             "#0d0887"
            ],
            [
             0.1111111111111111,
             "#46039f"
            ],
            [
             0.2222222222222222,
             "#7201a8"
            ],
            [
             0.3333333333333333,
             "#9c179e"
            ],
            [
             0.4444444444444444,
             "#bd3786"
            ],
            [
             0.5555555555555556,
             "#d8576b"
            ],
            [
             0.6666666666666666,
             "#ed7953"
            ],
            [
             0.7777777777777778,
             "#fb9f3a"
            ],
            [
             0.8888888888888888,
             "#fdca26"
            ],
            [
             1,
             "#f0f921"
            ]
           ],
           "sequentialminus": [
            [
             0,
             "#0d0887"
            ],
            [
             0.1111111111111111,
             "#46039f"
            ],
            [
             0.2222222222222222,
             "#7201a8"
            ],
            [
             0.3333333333333333,
             "#9c179e"
            ],
            [
             0.4444444444444444,
             "#bd3786"
            ],
            [
             0.5555555555555556,
             "#d8576b"
            ],
            [
             0.6666666666666666,
             "#ed7953"
            ],
            [
             0.7777777777777778,
             "#fb9f3a"
            ],
            [
             0.8888888888888888,
             "#fdca26"
            ],
            [
             1,
             "#f0f921"
            ]
           ]
          },
          "colorway": [
           "#636efa",
           "#EF553B",
           "#00cc96",
           "#ab63fa",
           "#FFA15A",
           "#19d3f3",
           "#FF6692",
           "#B6E880",
           "#FF97FF",
           "#FECB52"
          ],
          "font": {
           "color": "#2a3f5f"
          },
          "geo": {
           "bgcolor": "white",
           "lakecolor": "white",
           "landcolor": "#E5ECF6",
           "showlakes": true,
           "showland": true,
           "subunitcolor": "white"
          },
          "hoverlabel": {
           "align": "left"
          },
          "hovermode": "closest",
          "mapbox": {
           "style": "light"
          },
          "paper_bgcolor": "white",
          "plot_bgcolor": "#E5ECF6",
          "polar": {
           "angularaxis": {
            "gridcolor": "white",
            "linecolor": "white",
            "ticks": ""
           },
           "bgcolor": "#E5ECF6",
           "radialaxis": {
            "gridcolor": "white",
            "linecolor": "white",
            "ticks": ""
           }
          },
          "scene": {
           "xaxis": {
            "backgroundcolor": "#E5ECF6",
            "gridcolor": "white",
            "gridwidth": 2,
            "linecolor": "white",
            "showbackground": true,
            "ticks": "",
            "zerolinecolor": "white"
           },
           "yaxis": {
            "backgroundcolor": "#E5ECF6",
            "gridcolor": "white",
            "gridwidth": 2,
            "linecolor": "white",
            "showbackground": true,
            "ticks": "",
            "zerolinecolor": "white"
           },
           "zaxis": {
            "backgroundcolor": "#E5ECF6",
            "gridcolor": "white",
            "gridwidth": 2,
            "linecolor": "white",
            "showbackground": true,
            "ticks": "",
            "zerolinecolor": "white"
           }
          },
          "shapedefaults": {
           "line": {
            "color": "#2a3f5f"
           }
          },
          "ternary": {
           "aaxis": {
            "gridcolor": "white",
            "linecolor": "white",
            "ticks": ""
           },
           "baxis": {
            "gridcolor": "white",
            "linecolor": "white",
            "ticks": ""
           },
           "bgcolor": "#E5ECF6",
           "caxis": {
            "gridcolor": "white",
            "linecolor": "white",
            "ticks": ""
           }
          },
          "title": {
           "x": 0.05
          },
          "xaxis": {
           "automargin": true,
           "gridcolor": "white",
           "linecolor": "white",
           "ticks": "",
           "title": {
            "standoff": 15
           },
           "zerolinecolor": "white",
           "zerolinewidth": 2
          },
          "yaxis": {
           "automargin": true,
           "gridcolor": "white",
           "linecolor": "white",
           "ticks": "",
           "title": {
            "standoff": 15
           },
           "zerolinecolor": "white",
           "zerolinewidth": 2
          }
         }
        },
        "title": {
         "text": "Recency vs. Monetary Value by Frequency "
        },
        "xaxis": {
         "anchor": "y",
         "domain": [
          0,
          1
         ],
         "title": {
          "text": "Days Since Last Purchase"
         }
        },
        "yaxis": {
         "anchor": "x",
         "domain": [
          0,
          1
         ],
         "title": {
          "text": "Total_Revenue"
         }
        }
       }
      }
     },
     "metadata": {},
     "output_type": "display_data"
    }
   ],
   "source": [
    "# Scatter Plot (Recency vs. Monetary):\n",
    "\n",
    "fig= px.scatter(rfm, x='Recency', y='Monetary', color='Frequency',\n",
    "                title='Recency vs. Monetary Value by Frequency ',\n",
    "                labels={'Recency': 'Days Since Last Purchase', 'Monetary':'Total_Revenue'})\n",
    "fig.show()\n"
   ]
  },
  {
   "cell_type": "code",
   "execution_count": 30,
   "id": "038feddc",
   "metadata": {},
   "outputs": [
    {
     "data": {
      "text/plain": [
       "['clv_model.pkl']"
      ]
     },
     "execution_count": 30,
     "metadata": {},
     "output_type": "execute_result"
    }
   ],
   "source": [
    "# Save the model\n",
    "import joblib\n",
    "joblib.dump(model, 'clv_model.pkl')"
   ]
  },
  {
   "cell_type": "code",
   "execution_count": null,
   "id": "b1f3ea94",
   "metadata": {},
   "outputs": [],
   "source": []
  }
 ],
 "metadata": {
  "kernelspec": {
   "display_name": "GeneralTask",
   "language": "python",
   "name": "python3"
  },
  "language_info": {
   "codemirror_mode": {
    "name": "ipython",
    "version": 3
   },
   "file_extension": ".py",
   "mimetype": "text/x-python",
   "name": "python",
   "nbconvert_exporter": "python",
   "pygments_lexer": "ipython3",
   "version": "3.12.7"
  }
 },
 "nbformat": 4,
 "nbformat_minor": 5
}
